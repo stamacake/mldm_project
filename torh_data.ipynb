{
 "cells": [
  {
   "cell_type": "code",
   "execution_count": 19,
   "id": "2cc9067b-367c-4bd4-829c-aa4123ca8237",
   "metadata": {},
   "outputs": [],
   "source": [
    "import pandas as pd\n",
    "import os\n",
    "import shutil\n",
    "import numpy as np"
   ]
  },
  {
   "cell_type": "markdown",
   "id": "37f02a2e-ea75-4957-a369-e8b48f32acbf",
   "metadata": {},
   "source": [
    "# Data split"
   ]
  },
  {
   "cell_type": "code",
   "execution_count": 3,
   "id": "218df55c-03dc-4c2e-847d-b90a816f0e37",
   "metadata": {},
   "outputs": [],
   "source": [
    "data = pd.read_csv('train.csv')"
   ]
  },
  {
   "cell_type": "code",
   "execution_count": 9,
   "id": "67e2a352-8c02-4fc5-9d78-b7fe7183ff1a",
   "metadata": {},
   "outputs": [],
   "source": [
    "TEST_SIZE = 0.15\n",
    "VAL_SIZE = 0.15\n",
    "TRAIN_SIZE = 1. - TEST_SIZE - VAL_SIZE"
   ]
  },
  {
   "cell_type": "code",
   "execution_count": 12,
   "id": "09364b39-9503-4d8d-872b-4827b03fbaaa",
   "metadata": {},
   "outputs": [],
   "source": [
    "p = np.array([TRAIN_SIZE, VAL_SIZE, TEST_SIZE])\n",
    "folds = np.random.choice(3, len(data), p=p)"
   ]
  },
  {
   "cell_type": "code",
   "execution_count": 14,
   "id": "9e5bc4ba-1ec9-443d-beef-d1ac6fe454db",
   "metadata": {},
   "outputs": [
    {
     "data": {
      "text/plain": [
       "(array([0, 1, 2]), array([6964, 1482, 1466]))"
      ]
     },
     "execution_count": 14,
     "metadata": {},
     "output_type": "execute_result"
    }
   ],
   "source": [
    "np.unique(folds, return_counts=True)"
   ]
  },
  {
   "cell_type": "code",
   "execution_count": 16,
   "id": "283d3361-a701-499c-a12c-ecbda93ffa09",
   "metadata": {},
   "outputs": [],
   "source": [
    "train_data = data[folds == 0]\n",
    "val_data = data[folds == 1]\n",
    "test_data = data[folds == 2]"
   ]
  },
  {
   "cell_type": "code",
   "execution_count": 26,
   "id": "28002837-42ab-4a40-9630-28c584416804",
   "metadata": {},
   "outputs": [],
   "source": [
    "def save_fataset_fold(fold_data, fold_name, src_imgs_path, dataset_path):\n",
    "    for file_id in fold_data['Id']:\n",
    "        filename = file_id + '.jpg'\n",
    "        \n",
    "        src_pth = os.path.join(src_imgs_path, filename)\n",
    "        dst_dir = os.path.join(dataset_path, fold_name)\n",
    "        dst_pth = os.path.join(dst_dir, filename)\n",
    "        \n",
    "        os.makedirs(dst_dir, exist_ok=True)\n",
    "        shutil.copyfile(src_pth, dst_pth)\n",
    "    \n",
    "    pth = os.path.join(dataset_path, fold_name + '.csv')\n",
    "    fold_data.to_csv(pth, index=None)"
   ]
  },
  {
   "cell_type": "code",
   "execution_count": 27,
   "id": "845199b1-832a-4b56-8149-9b70d91970a4",
   "metadata": {},
   "outputs": [],
   "source": [
    "images_src_path = 'train'\n",
    "dataset_path = 'torch_data'\n",
    "\n",
    "os.makedirs(dataset_path, exist_ok=True)\n",
    "\n",
    "folds = [\n",
    "    ('train', train_data),\n",
    "    ('val', val_data),\n",
    "    ('test', test_data),\n",
    "]\n",
    "for fold_name, fold_data in folds:\n",
    "    save_fataset_fold(\n",
    "        fold_data=fold_data,\n",
    "        fold_name=fold_name,\n",
    "        src_imgs_path=images_src_path,\n",
    "        dataset_path=dataset_path,\n",
    "    )"
   ]
  },
  {
   "cell_type": "markdown",
   "id": "69d22a3d-c104-4dac-b0c1-1500341f59f4",
   "metadata": {},
   "source": [
    "# Test"
   ]
  },
  {
   "cell_type": "code",
   "execution_count": 42,
   "id": "93fab68d-b95b-4d5d-a261-059fca659577",
   "metadata": {},
   "outputs": [],
   "source": [
    "for fold  in ['train', 'val', 'test']:\n",
    "    imgs = os.listdir(f'torch_data/{fold}')\n",
    "    ids = [e.strip('.jpg') for e in imgs]\n",
    "\n",
    "    fold_data = pd.read_csv(f'torch_data/{fold}.csv')\n",
    "    assert set(fold_data['Id']) == set(ids), 'images mistmatch'"
   ]
  }
 ],
 "metadata": {
  "kernelspec": {
   "display_name": "Python 3 (ipykernel)",
   "language": "python",
   "name": "python3"
  },
  "language_info": {
   "codemirror_mode": {
    "name": "ipython",
    "version": 3
   },
   "file_extension": ".py",
   "mimetype": "text/x-python",
   "name": "python",
   "nbconvert_exporter": "python",
   "pygments_lexer": "ipython3",
   "version": "3.8.10"
  }
 },
 "nbformat": 4,
 "nbformat_minor": 5
}
