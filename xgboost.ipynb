{
 "cells": [
  {
   "cell_type": "code",
   "execution_count": 6,
   "metadata": {
    "_cell_guid": "b1076dfc-b9ad-4769-8c92-a6c4dae69d19",
    "_uuid": "8f2839f25d086af736a60e9eeb907d3b93b6e0e5",
    "execution": {
     "iopub.execute_input": "2022-11-19T12:39:43.522380Z",
     "iopub.status.busy": "2022-11-19T12:39:43.521632Z",
     "iopub.status.idle": "2022-11-19T12:39:43.526245Z",
     "shell.execute_reply": "2022-11-19T12:39:43.525405Z",
     "shell.execute_reply.started": "2022-11-19T12:39:43.522342Z"
    }
   },
   "outputs": [],
   "source": [
    "import numpy as np\n",
    "import pandas as pd\n",
    "from sklearn.model_selection import train_test_split\n",
    "from sklearn.metrics import mean_squared_error\n",
    "from xgboost import XGBRegressor"
   ]
  },
  {
   "cell_type": "code",
   "execution_count": 2,
   "metadata": {
    "execution": {
     "iopub.execute_input": "2022-11-19T12:38:39.097031Z",
     "iopub.status.busy": "2022-11-19T12:38:39.096751Z",
     "iopub.status.idle": "2022-11-19T12:38:39.140106Z",
     "shell.execute_reply": "2022-11-19T12:38:39.139398Z",
     "shell.execute_reply.started": "2022-11-19T12:38:39.097001Z"
    }
   },
   "outputs": [],
   "source": [
    "train = pd.read_csv('train.csv')\n",
    "test = pd.read_csv('test.csv')"
   ]
  },
  {
   "cell_type": "code",
   "execution_count": 3,
   "metadata": {
    "execution": {
     "iopub.execute_input": "2022-11-19T12:38:40.849997Z",
     "iopub.status.busy": "2022-11-19T12:38:40.849543Z",
     "iopub.status.idle": "2022-11-19T12:38:40.864053Z",
     "shell.execute_reply": "2022-11-19T12:38:40.863171Z",
     "shell.execute_reply.started": "2022-11-19T12:38:40.849961Z"
    }
   },
   "outputs": [],
   "source": [
    "train = train.drop(columns = 'Id')\n",
    "test = test.drop(columns = 'Id')"
   ]
  },
  {
   "cell_type": "code",
   "execution_count": 4,
   "metadata": {
    "execution": {
     "iopub.execute_input": "2022-11-19T12:38:43.012520Z",
     "iopub.status.busy": "2022-11-19T12:38:43.012232Z",
     "iopub.status.idle": "2022-11-19T12:38:43.025589Z",
     "shell.execute_reply": "2022-11-19T12:38:43.024684Z",
     "shell.execute_reply.started": "2022-11-19T12:38:43.012488Z"
    }
   },
   "outputs": [],
   "source": [
    "X_train, X_test, y_train, y_test = train_test_split(train.drop(columns = 'Pawpularity'), train['Pawpularity'], test_size=0.25, random_state=42)"
   ]
  },
  {
   "cell_type": "code",
   "execution_count": 7,
   "metadata": {
    "execution": {
     "iopub.execute_input": "2022-11-19T12:39:56.794030Z",
     "iopub.status.busy": "2022-11-19T12:39:56.793720Z",
     "iopub.status.idle": "2022-11-19T12:40:10.049196Z",
     "shell.execute_reply": "2022-11-19T12:40:10.048453Z",
     "shell.execute_reply.started": "2022-11-19T12:39:56.793996Z"
    }
   },
   "outputs": [
    {
     "name": "stdout",
     "output_type": "stream",
     "text": [
      "RMSE: 21.51499273430662\n"
     ]
    }
   ],
   "source": [
    "model = XGBRegressor(\n",
    "        gpu_id=0,\n",
    "        n_estimators=10000,\n",
    "        predictor=\"gpu_predictor\"\n",
    "    )\n",
    "model.fit(X_train, y_train)\n",
    "y_pred = model.predict(X_test)\n",
    "accuracy_score = np.sqrt(mean_squared_error(y_test, y_pred))\n",
    "print(\"RMSE:\", accuracy_score)"
   ]
  }
 ],
 "metadata": {
  "kernelspec": {
   "display_name": "Python 3 (ipykernel)",
   "language": "python",
   "name": "python3"
  },
  "language_info": {
   "codemirror_mode": {
    "name": "ipython",
    "version": 3
   },
   "file_extension": ".py",
   "mimetype": "text/x-python",
   "name": "python",
   "nbconvert_exporter": "python",
   "pygments_lexer": "ipython3",
   "version": "3.9.13"
  }
 },
 "nbformat": 4,
 "nbformat_minor": 4
}
