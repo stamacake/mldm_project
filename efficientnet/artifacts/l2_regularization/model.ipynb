{
 "cells": [
  {
   "cell_type": "code",
   "execution_count": 147,
   "id": "f832259c-d843-400c-bde3-8e0b41df4bd1",
   "metadata": {},
   "outputs": [],
   "source": [
    "NOTEBOOK_NAME = 'model.ipynb'"
   ]
  },
  {
   "cell_type": "code",
   "execution_count": 1,
   "id": "870be893-bbd9-4396-9eb9-1da4177bf894",
   "metadata": {},
   "outputs": [],
   "source": [
    "import os\n",
    "import tqdm\n",
    "import matplotlib.pyplot as plt\n",
    "\n",
    "import numpy as np\n",
    "from sklearn.metrics.pairwise import cosine_similarity\n",
    "\n",
    "import torch\n",
    "from torch import nn\n",
    "import torchvision as tv\n",
    "\n",
    "from torchvision.models import efficientnet, EfficientNet_V2_M_Weights\n",
    "from torchvision import datasets, transforms\n",
    "\n",
    "from utils import save_pickle, load_pickle, ImageSearcher"
   ]
  },
  {
   "cell_type": "code",
   "execution_count": 14,
   "id": "90d9154f-4467-48f4-9fef-ef2be3edec26",
   "metadata": {},
   "outputs": [],
   "source": [
    "EXP_NAME = 'efficientnet'\n",
    "ARTIFCAT_PATH = os.path.join(EXP_NAME, 'artifacts')\n",
    "os.makedirs(ARTIFCAT_PATH, exist_ok=True)"
   ]
  },
  {
   "cell_type": "code",
   "execution_count": 2,
   "id": "0da8ed2e-4362-45f7-af65-0ab699f4e295",
   "metadata": {},
   "outputs": [
    {
     "data": {
      "text/plain": [
       "'cuda:1'"
      ]
     },
     "execution_count": 2,
     "metadata": {},
     "output_type": "execute_result"
    }
   ],
   "source": [
    "device = 'cuda:1' if torch.cuda.is_available() else 'cpu'\n",
    "device"
   ]
  },
  {
   "cell_type": "code",
   "execution_count": 3,
   "id": "b22a2b07-fd88-4e04-8523-ab3506922249",
   "metadata": {},
   "outputs": [],
   "source": [
    "searcher = ImageSearcher('train')"
   ]
  },
  {
   "cell_type": "markdown",
   "id": "85f03535-9166-421b-adf0-f45e51dbf264",
   "metadata": {},
   "source": [
    "## Dataset"
   ]
  },
  {
   "cell_type": "code",
   "execution_count": 4,
   "id": "63210e78-dce8-402a-92e2-78e3e958bcca",
   "metadata": {},
   "outputs": [],
   "source": [
    "class ImageLoader(torch.utils.data.Dataset):\n",
    "    def __init__(self, folder, transform=None):\n",
    "        self.folder = folder\n",
    "        files = os.listdir(self.folder)\n",
    "        self.labels = ['.'.join(e.split('.')[:-1]) for e in files]\n",
    "        self.files = [os.path.join(folder, f) for f in files]\n",
    "        self.transform = transform\n",
    "        \n",
    "    def __len__(self):\n",
    "        return len(self.files)\n",
    "    \n",
    "    def __getitem__(self, idx):\n",
    "        image_path = self.files[idx]\n",
    "        image = tv.io.read_image(image_path)\n",
    "        if self.transform is not None:\n",
    "            image = self.transform(image)\n",
    "        \n",
    "        label = self.labels[idx]\n",
    "        \n",
    "        return (image, label)"
   ]
  },
  {
   "cell_type": "code",
   "execution_count": 21,
   "id": "58fd10b1-d929-42a2-8f2c-aee7ee6c03a7",
   "metadata": {},
   "outputs": [],
   "source": [
    "IMAGE_SIZE = 480\n",
    "\n",
    "\n",
    "ds_train = ImageLoader(\n",
    "    folder='torch_data/train',\n",
    "    transform=transforms.Compose([\n",
    "        transforms.Resize(IMAGE_SIZE),\n",
    "        transforms.CenterCrop(IMAGE_SIZE),\n",
    "        transforms.ConvertImageDtype(torch.float32),\n",
    "    ])\n",
    ")\n",
    "\n",
    "ds_val = ImageLoader(\n",
    "    folder='torch_data/val',\n",
    "    transform=transforms.Compose([\n",
    "        transforms.Resize(IMAGE_SIZE),\n",
    "        transforms.CenterCrop(IMAGE_SIZE),\n",
    "        transforms.ConvertImageDtype(torch.float32),\n",
    "    ])\n",
    ")"
   ]
  },
  {
   "cell_type": "code",
   "execution_count": 30,
   "id": "9d7728f5-96e1-49b3-b792-8d5d1b3b940a",
   "metadata": {},
   "outputs": [],
   "source": [
    "train_loader = torch.utils.data.DataLoader(\n",
    "    ds_train,\n",
    "    64,\n",
    ")\n",
    "\n",
    "val_loader = torch.utils.data.DataLoader(\n",
    "    ds_val,\n",
    "    64,\n",
    ")"
   ]
  },
  {
   "cell_type": "markdown",
   "id": "78aa5e50-103e-46df-90dc-731dfaeeada6",
   "metadata": {},
   "source": [
    "## Model"
   ]
  },
  {
   "cell_type": "code",
   "execution_count": 7,
   "id": "c1daedc5-f3d5-477f-bbd4-938ec05ab9c6",
   "metadata": {},
   "outputs": [
    {
     "name": "stderr",
     "output_type": "stream",
     "text": [
      "/opt/conda/lib/python3.8/site-packages/torchvision/models/_utils.py:135: UserWarning: Using 'weights' as positional parameter(s) is deprecated since 0.13 and may be removed in the future. Please use keyword parameter(s) instead.\n",
      "  warnings.warn(\n"
     ]
    }
   ],
   "source": [
    "model = efficientnet.efficientnet_v2_m(EfficientNet_V2_M_Weights.IMAGENET1K_V1)\n",
    "model.classifier[1] = nn.Identity()"
   ]
  },
  {
   "cell_type": "code",
   "execution_count": 8,
   "id": "7cff9515-7fb1-43ff-a6ef-3c3d6f37b9ec",
   "metadata": {},
   "outputs": [],
   "source": [
    "model = model.to(device)"
   ]
  },
  {
   "cell_type": "markdown",
   "id": "758fe15b-024b-4923-b43d-cdacce827b9d",
   "metadata": {},
   "source": [
    "## Embeddings"
   ]
  },
  {
   "cell_type": "code",
   "execution_count": 23,
   "id": "9c77eb95-0dc5-4773-af28-ce12320aa69b",
   "metadata": {},
   "outputs": [],
   "source": [
    "def collect_preds(module, loader):\n",
    "    x_all = []\n",
    "    y_all = []\n",
    "    for x, y in tqdm.tqdm(loader):\n",
    "        with torch.no_grad():\n",
    "            x = model(x.to(device)).cpu().numpy()\n",
    "            x_all.append(x)\n",
    "            y_all.append(y)\n",
    "            \n",
    "    x_all = np.concatenate(x_all, axis=0)\n",
    "    y_all = np.concatenate(y_all, axis=0)\n",
    "    \n",
    "    return x_all, y_all"
   ]
  },
  {
   "cell_type": "markdown",
   "id": "c61a4008-4c23-40f9-b6b7-5657a4092cae",
   "metadata": {},
   "source": [
    "### computing embeddings"
   ]
  },
  {
   "cell_type": "code",
   "execution_count": 24,
   "id": "6db268d0-8ae3-4804-abe2-ebffa38f2afa",
   "metadata": {},
   "outputs": [
    {
     "name": "stderr",
     "output_type": "stream",
     "text": [
      "100%|██████████| 109/109 [05:19<00:00,  2.93s/it]\n"
     ]
    }
   ],
   "source": [
    "x_train, y_train = collect_preds(model, train_loader)\n",
    "x_val, y_val = collect_preds(model, val_loader)"
   ]
  },
  {
   "cell_type": "code",
   "execution_count": 34,
   "id": "80eea1f0-972d-4246-8ecf-6dc990511f17",
   "metadata": {},
   "outputs": [],
   "source": [
    "save_pickle([x_train, y_train], os.path.join(ARTIFCAT_PATH, 'efficientnet_v2_train.pkl'))\n",
    "save_pickle([x_val, y_val], os.path.join(ARTIFCAT_PATH, 'efficientnet_v2_val.pkl'))"
   ]
  },
  {
   "cell_type": "markdown",
   "id": "08230914-406b-4cef-b328-573b1244017f",
   "metadata": {},
   "source": [
    "# Model"
   ]
  },
  {
   "cell_type": "code",
   "execution_count": 150,
   "id": "c846dbd2-6755-4aec-b4f4-eb57afca2ac6",
   "metadata": {},
   "outputs": [],
   "source": [
    "import pandas as pd\n",
    "from utils import load_pickle\n",
    "from sklearn.metrics import mean_squared_error\n",
    "import numpy as np\n",
    "\n",
    "import torch\n",
    "from torch import nn\n",
    "from torch.nn import functional as F\n",
    "from torch.utils import data\n",
    "\n",
    "from tqdm.notebook import tqdm\n",
    "import shutil"
   ]
  },
  {
   "cell_type": "code",
   "execution_count": 49,
   "id": "cce56a43-f247-46da-92fe-8304dfd04e8a",
   "metadata": {},
   "outputs": [],
   "source": [
    "def prepare_data(x, y, meta_all):\n",
    "    y = meta_all.set_index('Id').loc[y]['Pawpularity'].to_numpy()\n",
    "    y = y / 100\n",
    "    \n",
    "    x = x.astype(np.float32)\n",
    "    y = y.astype(np.float32)\n",
    "\n",
    "    return x, y"
   ]
  },
  {
   "cell_type": "code",
   "execution_count": null,
   "id": "ac5c32f2-4134-4e36-8628-222a229efd09",
   "metadata": {},
   "outputs": [],
   "source": [
    "meta_all = pd.read_csv('train.csv')"
   ]
  },
  {
   "cell_type": "code",
   "execution_count": 50,
   "id": "848696ba-7132-43c4-b16e-a2971cb9e660",
   "metadata": {},
   "outputs": [],
   "source": [
    "x_train, y_train = load_pickle(os.path.join(ARTIFCAT_PATH, 'efficientnet_v2_train.pkl'))\n",
    "x_val, y_val = load_pickle(os.path.join(ARTIFCAT_PATH, 'efficientnet_v2_val.pkl'))\n",
    "\n",
    "x_train, y_train = prepare_data(x_train, y_train, meta_all)\n",
    "x_val, y_val = prepare_data(x_val, y_val, meta_all)"
   ]
  },
  {
   "cell_type": "code",
   "execution_count": 68,
   "id": "a8990f21-50f3-4965-bd8c-4e5830e662e0",
   "metadata": {},
   "outputs": [],
   "source": [
    "EMB_SIZE = x_train.shape[1]"
   ]
  },
  {
   "cell_type": "code",
   "execution_count": 51,
   "id": "307047b4-329c-4f0f-aadd-3d391505afc2",
   "metadata": {},
   "outputs": [],
   "source": [
    "rmse = lambda yh, y: mean_squared_error(y, yh) ** 0.5"
   ]
  },
  {
   "cell_type": "code",
   "execution_count": 52,
   "id": "f0474b23-f5bc-4905-9743-8faaa07c5a66",
   "metadata": {},
   "outputs": [],
   "source": [
    "class PawpularityEmbeddingsDataset(data.Dataset):\n",
    "    def __init__(self, x, y):\n",
    "        super().__init__()\n",
    "        \n",
    "        self.x = x\n",
    "        self.y = y[:, np.newaxis]\n",
    "    \n",
    "    def __len__(self):\n",
    "        return len(self.y)\n",
    "    \n",
    "    def __getitem__(self, idx):\n",
    "        return self.x[idx], self.y[idx]"
   ]
  },
  {
   "cell_type": "code",
   "execution_count": 53,
   "id": "8b878384-d827-4a74-854f-0ee2ce1d7cb1",
   "metadata": {},
   "outputs": [],
   "source": [
    "class PawpularityHead(nn.Module):\n",
    "    def __init__(self, in_dim):\n",
    "        super().__init__()\n",
    "        self.fc = nn.Linear(in_dim, 1)\n",
    "        self.fc_act = nn.Sigmoid() # for test simplicity\n",
    "        \n",
    "    def forward(self, x):\n",
    "        x = self.fc(x)\n",
    "        x = self.fc_act(x)\n",
    "        \n",
    "        return x"
   ]
  },
  {
   "cell_type": "code",
   "execution_count": 54,
   "id": "a817282a-45df-4b27-bc7a-71882e7892e7",
   "metadata": {},
   "outputs": [],
   "source": [
    "def test(module, test_dl, metrics:dict):\n",
    "    module = module.train(False)\n",
    "    \n",
    "    yh = []\n",
    "    yt = []\n",
    "    with torch.no_grad():\n",
    "        for x, y in test_dl:\n",
    "            yhc = module(x).detach().cpu().numpy()\n",
    "            yh.append(yhc)\n",
    "            yt.append(y)\n",
    "            \n",
    "    yh = np.concatenate(yh, axis=0)\n",
    "    y = np.concatenate(yt, axis=0)\n",
    "    \n",
    "    res = {}\n",
    "    for mname, mfunc in metrics.items():\n",
    "        res[mname] = mfunc(yh, y)\n",
    "    \n",
    "    return res"
   ]
  },
  {
   "cell_type": "code",
   "execution_count": 80,
   "id": "766d9dc6-134e-4816-bf6f-5ec2db1b8739",
   "metadata": {},
   "outputs": [],
   "source": [
    "def train(\n",
    "    module: nn.Module, \n",
    "    loss_f, \n",
    "    optimizer: torch.optim.Optimizer, \n",
    "    train_dl: data.DataLoader, \n",
    "    test_dl: data.DataLoader, \n",
    "    epochs: int,\n",
    "    pbar_update_steps: int=100,\n",
    "    ):\n",
    "    \n",
    "    logs = []\n",
    "    test_logs = []\n",
    "    for epoch in range(epochs):\n",
    "        module = module.train(True)\n",
    "        with tqdm(total=len(train_dl)) as pbar:\n",
    "            pbar.set_description(f'epoch {epoch}')\n",
    "            \n",
    "            for step, (x, y) in enumerate(train_dl):\n",
    "                yh = module(x)\n",
    "                loss = loss_f(yh, y)\n",
    "                \n",
    "                optimizer.zero_grad()\n",
    "                loss.backward()\n",
    "                optimizer.step()\n",
    "                \n",
    "                loss = loss.detach().cpu().numpy()\n",
    "                \n",
    "                log = {\n",
    "                    'loss' : float(loss), \n",
    "                    'rmse': rmse(yh.detach().cpu().numpy(), y.detach().cpu().numpy()),\n",
    "                }\n",
    "                logs.append(log)\n",
    "                \n",
    "                if step % pbar_update_steps == 0:\n",
    "                    running_loss = np.mean([log['loss'] for log in logs[-pbar_update_steps:]])\n",
    "                    pbar.set_postfix({'loss' : running_loss})\n",
    "                pbar.update()\n",
    "        \n",
    "        test_metrics = test(module, test_dl, {'rmse' : rmse})\n",
    "        test_logs.append(test_metrics)\n",
    "        print(test_metrics)\n",
    "    \n",
    "    return logs, test_logs"
   ]
  },
  {
   "cell_type": "code",
   "execution_count": 184,
   "id": "87076c86-e554-487b-946d-7ee99537cb6e",
   "metadata": {},
   "outputs": [],
   "source": [
    "METRIC_COLLECTION_STEPS = 100\n",
    "SUB_EXP_NAME = 'l2_regularization'\n",
    "SUB_EXP_ARTIFACTS = os.path.join(ARTIFCAT_PATH, SUB_EXP_NAME)\n",
    "os.makedirs(SUB_EXP_ARTIFACTS, exist_ok=True)"
   ]
  },
  {
   "cell_type": "code",
   "execution_count": null,
   "id": "97185b89-455d-453a-aaa8-0768f7b3cc3d",
   "metadata": {},
   "outputs": [
    {
     "data": {
      "application/json": {
       "ascii": false,
       "bar_format": null,
       "colour": null,
       "elapsed": 0.0183260440826416,
       "initial": 0,
       "n": 0,
       "ncols": null,
       "nrows": null,
       "postfix": null,
       "prefix": "",
       "rate": null,
       "total": 109,
       "unit": "it",
       "unit_divisor": 1000,
       "unit_scale": false
      },
      "application/vnd.jupyter.widget-view+json": {
       "model_id": "0dcc60e3a069421e99346a26f8f33060",
       "version_major": 2,
       "version_minor": 0
      },
      "text/plain": [
       "  0%|          | 0/109 [00:00<?, ?it/s]"
      ]
     },
     "metadata": {},
     "output_type": "display_data"
    },
    {
     "name": "stdout",
     "output_type": "stream",
     "text": [
      "{'rmse': 0.18707515347856943}\n"
     ]
    },
    {
     "data": {
      "application/json": {
       "ascii": false,
       "bar_format": null,
       "colour": null,
       "elapsed": 0.01857590675354004,
       "initial": 0,
       "n": 0,
       "ncols": null,
       "nrows": null,
       "postfix": null,
       "prefix": "",
       "rate": null,
       "total": 109,
       "unit": "it",
       "unit_divisor": 1000,
       "unit_scale": false
      },
      "application/vnd.jupyter.widget-view+json": {
       "model_id": "e900c5b2563c45f2baf16b7aa02c2933",
       "version_major": 2,
       "version_minor": 0
      },
      "text/plain": [
       "  0%|          | 0/109 [00:00<?, ?it/s]"
      ]
     },
     "metadata": {},
     "output_type": "display_data"
    },
    {
     "name": "stdout",
     "output_type": "stream",
     "text": [
      "{'rmse': 0.18634120167524}\n"
     ]
    },
    {
     "data": {
      "application/json": {
       "ascii": false,
       "bar_format": null,
       "colour": null,
       "elapsed": 0.0228116512298584,
       "initial": 0,
       "n": 0,
       "ncols": null,
       "nrows": null,
       "postfix": null,
       "prefix": "",
       "rate": null,
       "total": 109,
       "unit": "it",
       "unit_divisor": 1000,
       "unit_scale": false
      },
      "application/vnd.jupyter.widget-view+json": {
       "model_id": "7b529766040a451aa8a9858725a77893",
       "version_major": 2,
       "version_minor": 0
      },
      "text/plain": [
       "  0%|          | 0/109 [00:00<?, ?it/s]"
      ]
     },
     "metadata": {},
     "output_type": "display_data"
    },
    {
     "name": "stdout",
     "output_type": "stream",
     "text": [
      "{'rmse': 0.18635830384899174}\n"
     ]
    },
    {
     "data": {
      "application/json": {
       "ascii": false,
       "bar_format": null,
       "colour": null,
       "elapsed": 0.018872737884521484,
       "initial": 0,
       "n": 0,
       "ncols": null,
       "nrows": null,
       "postfix": null,
       "prefix": "",
       "rate": null,
       "total": 109,
       "unit": "it",
       "unit_divisor": 1000,
       "unit_scale": false
      },
      "application/vnd.jupyter.widget-view+json": {
       "model_id": "28781a4c518f428f97792e54deeb80b4",
       "version_major": 2,
       "version_minor": 0
      },
      "text/plain": [
       "  0%|          | 0/109 [00:00<?, ?it/s]"
      ]
     },
     "metadata": {},
     "output_type": "display_data"
    }
   ],
   "source": [
    "model = PawpularityHead(EMB_SIZE)\n",
    "embs_dataset_train = PawpularityEmbeddingsDataset(x_train, y_train)\n",
    "embs_dataset_val = PawpularityEmbeddingsDataset(x_val, y_val)\n",
    "\n",
    "loader_train = data.DataLoader(embs_dataset_train, 64)\n",
    "loader_val = data.DataLoader(embs_dataset_val, 64)\n",
    "\n",
    "loss_fn = nn.BCELoss()\n",
    "optimizer = torch.optim.Adam(model.parameters(), lr=1e-3, weight_decay=0.01)\n",
    "logs, test_logs = train(\n",
    "    model, \n",
    "    loss_fn, \n",
    "    optimizer, \n",
    "    loader_train, \n",
    "    loader_val, \n",
    "    epochs=20, \n",
    "    pbar_update_steps=METRIC_COLLECTION_STEPS)"
   ]
  },
  {
   "cell_type": "code",
   "execution_count": null,
   "id": "af7d646a-9bc3-4a52-9290-ede9a3733b33",
   "metadata": {},
   "outputs": [],
   "source": [
    "save_pickle(logs, os.path.join(SUB_EXP_ARTIFACTS, 'train_logs.pkl'))\n",
    "save_pickle(test_logs, os.path.join(SUB_EXP_ARTIFACTS, 'test_logs.pkl'))\n",
    "save_pickle(model.state_dict(), os.path.join(SUB_EXP_ARTIFACTS, 'state_dict.pkl'))"
   ]
  },
  {
   "cell_type": "code",
   "execution_count": null,
   "id": "75881acc-e026-4ad0-9774-2f1854deba82",
   "metadata": {},
   "outputs": [],
   "source": [
    "train_logs_df = pd.DataFrame(logs)\n",
    "\n",
    "test_logs_df = pd.DataFrame(test_logs)\n",
    "test_logs_df.index = test_logs_df.index * METRIC_COLLECTION_STEPS + METRIC_COLLECTION_STEPS"
   ]
  },
  {
   "cell_type": "code",
   "execution_count": null,
   "id": "e69118ec-c32e-453d-ae68-ea68f26708b2",
   "metadata": {},
   "outputs": [],
   "source": [
    "plt.xlabel('steps')\n",
    "plt.ylabel('rmse')\n",
    "train_logs_df['rmse'].rolling(METRIC_COLLECTION_STEPS).mean().plot()\n",
    "test_logs_df['rmse'].plot()\n",
    "plt.savefig(os.path.join(SUB_EXP_ARTIFACTS, 'rmse_plot.png'))"
   ]
  },
  {
   "cell_type": "code",
   "execution_count": null,
   "id": "50da691c-b4d6-49bc-92f2-424bbb539a64",
   "metadata": {},
   "outputs": [],
   "source": [
    "plt.hist(model.fc.weight.detach().cpu().numpy()[0])"
   ]
  },
  {
   "cell_type": "code",
   "execution_count": null,
   "id": "3d7fa3eb-58c5-4999-ba6f-873e630e766f",
   "metadata": {},
   "outputs": [],
   "source": [
    "shutil.copyfile(NOTEBOOK_NAME, os.path.join(SUB_EXP_ARTIFACTS, 'model.ipynb'))"
   ]
  },
  {
   "cell_type": "code",
   "execution_count": null,
   "id": "f1acb1f2-b966-4077-949d-9256dba65caf",
   "metadata": {},
   "outputs": [],
   "source": []
  }
 ],
 "metadata": {
  "kernelspec": {
   "display_name": "Python 3 (ipykernel)",
   "language": "python",
   "name": "python3"
  },
  "language_info": {
   "codemirror_mode": {
    "name": "ipython",
    "version": 3
   },
   "file_extension": ".py",
   "mimetype": "text/x-python",
   "name": "python",
   "nbconvert_exporter": "python",
   "pygments_lexer": "ipython3",
   "version": "3.8.10"
  }
 },
 "nbformat": 4,
 "nbformat_minor": 5
}
