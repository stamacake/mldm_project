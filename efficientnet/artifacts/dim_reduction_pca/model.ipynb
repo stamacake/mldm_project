{
 "cells": [
  {
   "cell_type": "code",
   "execution_count": 147,
   "id": "f832259c-d843-400c-bde3-8e0b41df4bd1",
   "metadata": {},
   "outputs": [],
   "source": [
    "NOTEBOOK_NAME = 'model.ipynb'"
   ]
  },
  {
   "cell_type": "code",
   "execution_count": 1,
   "id": "870be893-bbd9-4396-9eb9-1da4177bf894",
   "metadata": {},
   "outputs": [],
   "source": [
    "import os\n",
    "import tqdm\n",
    "import matplotlib.pyplot as plt\n",
    "\n",
    "import numpy as np\n",
    "from sklearn.metrics.pairwise import cosine_similarity\n",
    "\n",
    "import torch\n",
    "from torch import nn\n",
    "import torchvision as tv\n",
    "\n",
    "from torchvision.models import efficientnet, EfficientNet_V2_M_Weights\n",
    "from torchvision import datasets, transforms\n",
    "\n",
    "from utils import save_pickle, load_pickle, ImageSearcher"
   ]
  },
  {
   "cell_type": "code",
   "execution_count": 14,
   "id": "90d9154f-4467-48f4-9fef-ef2be3edec26",
   "metadata": {},
   "outputs": [],
   "source": [
    "EXP_NAME = 'efficientnet'\n",
    "ARTIFCAT_PATH = os.path.join(EXP_NAME, 'artifacts')\n",
    "os.makedirs(ARTIFCAT_PATH, exist_ok=True)"
   ]
  },
  {
   "cell_type": "code",
   "execution_count": 2,
   "id": "0da8ed2e-4362-45f7-af65-0ab699f4e295",
   "metadata": {},
   "outputs": [
    {
     "data": {
      "text/plain": [
       "'cuda:1'"
      ]
     },
     "execution_count": 2,
     "metadata": {},
     "output_type": "execute_result"
    }
   ],
   "source": [
    "device = 'cuda:1' if torch.cuda.is_available() else 'cpu'\n",
    "device"
   ]
  },
  {
   "cell_type": "code",
   "execution_count": 3,
   "id": "b22a2b07-fd88-4e04-8523-ab3506922249",
   "metadata": {},
   "outputs": [],
   "source": [
    "searcher = ImageSearcher('train')"
   ]
  },
  {
   "cell_type": "markdown",
   "id": "85f03535-9166-421b-adf0-f45e51dbf264",
   "metadata": {},
   "source": [
    "## Dataset"
   ]
  },
  {
   "cell_type": "code",
   "execution_count": 4,
   "id": "63210e78-dce8-402a-92e2-78e3e958bcca",
   "metadata": {},
   "outputs": [],
   "source": [
    "class ImageLoader(torch.utils.data.Dataset):\n",
    "    def __init__(self, folder, transform=None):\n",
    "        self.folder = folder\n",
    "        files = os.listdir(self.folder)\n",
    "        self.labels = ['.'.join(e.split('.')[:-1]) for e in files]\n",
    "        self.files = [os.path.join(folder, f) for f in files]\n",
    "        self.transform = transform\n",
    "        \n",
    "    def __len__(self):\n",
    "        return len(self.files)\n",
    "    \n",
    "    def __getitem__(self, idx):\n",
    "        image_path = self.files[idx]\n",
    "        image = tv.io.read_image(image_path)\n",
    "        if self.transform is not None:\n",
    "            image = self.transform(image)\n",
    "        \n",
    "        label = self.labels[idx]\n",
    "        \n",
    "        return (image, label)"
   ]
  },
  {
   "cell_type": "code",
   "execution_count": 21,
   "id": "58fd10b1-d929-42a2-8f2c-aee7ee6c03a7",
   "metadata": {},
   "outputs": [],
   "source": [
    "IMAGE_SIZE = 480\n",
    "\n",
    "\n",
    "ds_train = ImageLoader(\n",
    "    folder='torch_data/train',\n",
    "    transform=transforms.Compose([\n",
    "        transforms.Resize(IMAGE_SIZE),\n",
    "        transforms.CenterCrop(IMAGE_SIZE),\n",
    "        transforms.ConvertImageDtype(torch.float32),\n",
    "    ])\n",
    ")\n",
    "\n",
    "ds_val = ImageLoader(\n",
    "    folder='torch_data/val',\n",
    "    transform=transforms.Compose([\n",
    "        transforms.Resize(IMAGE_SIZE),\n",
    "        transforms.CenterCrop(IMAGE_SIZE),\n",
    "        transforms.ConvertImageDtype(torch.float32),\n",
    "    ])\n",
    ")"
   ]
  },
  {
   "cell_type": "code",
   "execution_count": 30,
   "id": "9d7728f5-96e1-49b3-b792-8d5d1b3b940a",
   "metadata": {},
   "outputs": [],
   "source": [
    "train_loader = torch.utils.data.DataLoader(\n",
    "    ds_train,\n",
    "    64,\n",
    ")\n",
    "\n",
    "val_loader = torch.utils.data.DataLoader(\n",
    "    ds_val,\n",
    "    64,\n",
    ")"
   ]
  },
  {
   "cell_type": "markdown",
   "id": "78aa5e50-103e-46df-90dc-731dfaeeada6",
   "metadata": {},
   "source": [
    "## Model"
   ]
  },
  {
   "cell_type": "code",
   "execution_count": 7,
   "id": "c1daedc5-f3d5-477f-bbd4-938ec05ab9c6",
   "metadata": {},
   "outputs": [
    {
     "name": "stderr",
     "output_type": "stream",
     "text": [
      "/opt/conda/lib/python3.8/site-packages/torchvision/models/_utils.py:135: UserWarning: Using 'weights' as positional parameter(s) is deprecated since 0.13 and may be removed in the future. Please use keyword parameter(s) instead.\n",
      "  warnings.warn(\n"
     ]
    }
   ],
   "source": [
    "model = efficientnet.efficientnet_v2_m(EfficientNet_V2_M_Weights.IMAGENET1K_V1)\n",
    "model.classifier[1] = nn.Identity()"
   ]
  },
  {
   "cell_type": "code",
   "execution_count": 8,
   "id": "7cff9515-7fb1-43ff-a6ef-3c3d6f37b9ec",
   "metadata": {},
   "outputs": [],
   "source": [
    "model = model.to(device)"
   ]
  },
  {
   "cell_type": "markdown",
   "id": "758fe15b-024b-4923-b43d-cdacce827b9d",
   "metadata": {},
   "source": [
    "## Embeddings"
   ]
  },
  {
   "cell_type": "code",
   "execution_count": 23,
   "id": "9c77eb95-0dc5-4773-af28-ce12320aa69b",
   "metadata": {},
   "outputs": [],
   "source": [
    "def collect_preds(module, loader):\n",
    "    x_all = []\n",
    "    y_all = []\n",
    "    for x, y in tqdm.tqdm(loader):\n",
    "        with torch.no_grad():\n",
    "            x = model(x.to(device)).cpu().numpy()\n",
    "            x_all.append(x)\n",
    "            y_all.append(y)\n",
    "            \n",
    "    x_all = np.concatenate(x_all, axis=0)\n",
    "    y_all = np.concatenate(y_all, axis=0)\n",
    "    \n",
    "    return x_all, y_all"
   ]
  },
  {
   "cell_type": "markdown",
   "id": "c61a4008-4c23-40f9-b6b7-5657a4092cae",
   "metadata": {},
   "source": [
    "### computing embeddings"
   ]
  },
  {
   "cell_type": "code",
   "execution_count": 24,
   "id": "6db268d0-8ae3-4804-abe2-ebffa38f2afa",
   "metadata": {},
   "outputs": [
    {
     "name": "stderr",
     "output_type": "stream",
     "text": [
      "100%|██████████| 109/109 [05:19<00:00,  2.93s/it]\n"
     ]
    }
   ],
   "source": [
    "x_train, y_train = collect_preds(model, train_loader)\n",
    "x_val, y_val = collect_preds(model, val_loader)"
   ]
  },
  {
   "cell_type": "code",
   "execution_count": 34,
   "id": "80eea1f0-972d-4246-8ecf-6dc990511f17",
   "metadata": {},
   "outputs": [],
   "source": [
    "save_pickle([x_train, y_train], os.path.join(ARTIFCAT_PATH, 'efficientnet_v2_train.pkl'))\n",
    "save_pickle([x_val, y_val], os.path.join(ARTIFCAT_PATH, 'efficientnet_v2_val.pkl'))"
   ]
  },
  {
   "cell_type": "markdown",
   "id": "08230914-406b-4cef-b328-573b1244017f",
   "metadata": {},
   "source": [
    "# Model"
   ]
  },
  {
   "cell_type": "code",
   "execution_count": 150,
   "id": "c846dbd2-6755-4aec-b4f4-eb57afca2ac6",
   "metadata": {},
   "outputs": [],
   "source": [
    "import pandas as pd\n",
    "from utils import load_pickle\n",
    "from sklearn.metrics import mean_squared_error\n",
    "import numpy as np\n",
    "\n",
    "import torch\n",
    "from torch import nn\n",
    "from torch.nn import functional as F\n",
    "from torch.utils import data\n",
    "\n",
    "from tqdm.notebook import tqdm\n",
    "import shutil"
   ]
  },
  {
   "cell_type": "code",
   "execution_count": 49,
   "id": "cce56a43-f247-46da-92fe-8304dfd04e8a",
   "metadata": {},
   "outputs": [],
   "source": [
    "def prepare_data(x, y, meta_all):\n",
    "    y = meta_all.set_index('Id').loc[y]['Pawpularity'].to_numpy()\n",
    "    y = y / 100\n",
    "    \n",
    "    x = x.astype(np.float32)\n",
    "    y = y.astype(np.float32)\n",
    "\n",
    "    return x, y"
   ]
  },
  {
   "cell_type": "code",
   "execution_count": null,
   "id": "ac5c32f2-4134-4e36-8628-222a229efd09",
   "metadata": {},
   "outputs": [],
   "source": [
    "meta_all = pd.read_csv('train.csv')"
   ]
  },
  {
   "cell_type": "code",
   "execution_count": 376,
   "id": "848696ba-7132-43c4-b16e-a2971cb9e660",
   "metadata": {},
   "outputs": [],
   "source": [
    "x_train, y_train = load_pickle(os.path.join(ARTIFCAT_PATH, 'efficientnet_v2_train.pkl'))\n",
    "x_val, y_val = load_pickle(os.path.join(ARTIFCAT_PATH, 'efficientnet_v2_val.pkl'))\n",
    "\n",
    "x_train, y_train = prepare_data(x_train, y_train, meta_all)\n",
    "x_val, y_val = prepare_data(x_val, y_val, meta_all)"
   ]
  },
  {
   "cell_type": "code",
   "execution_count": null,
   "id": "0ea3ba0c-3b12-4b29-a487-2f4fa98515f8",
   "metadata": {},
   "outputs": [],
   "source": [
    "from sklearn.decomposition import PCA\n",
    "\n",
    "projector = PCA(512)\n",
    "x_train = projector.fit_transform(x_train)\n",
    "x_val = projector.fit_transform(x_val)"
   ]
  },
  {
   "cell_type": "code",
   "execution_count": null,
   "id": "df50c711-b27c-4581-b7a8-200a730aa53a",
   "metadata": {},
   "outputs": [],
   "source": [
    "1"
   ]
  },
  {
   "cell_type": "code",
   "execution_count": 361,
   "id": "a8990f21-50f3-4965-bd8c-4e5830e662e0",
   "metadata": {},
   "outputs": [],
   "source": [
    "EMB_SIZE = x_train.shape[1]"
   ]
  },
  {
   "cell_type": "code",
   "execution_count": 362,
   "id": "307047b4-329c-4f0f-aadd-3d391505afc2",
   "metadata": {},
   "outputs": [],
   "source": [
    "rmse = lambda yh, y: mean_squared_error(y, yh) ** 0.5"
   ]
  },
  {
   "cell_type": "code",
   "execution_count": 363,
   "id": "d3ba57e6-f85e-4a54-8ff6-250cf342e8aa",
   "metadata": {},
   "outputs": [],
   "source": [
    "def l1_reg(module: nn.Module):\n",
    "    flat_weights = torch.cat([e.view(-1) for e in module.parameters()])\n",
    "    flat_weights = torch.abs(flat_weights)\n",
    "    loss = torch.sum(flat_weights)\n",
    "    \n",
    "    return loss"
   ]
  },
  {
   "cell_type": "code",
   "execution_count": 364,
   "id": "f0474b23-f5bc-4905-9743-8faaa07c5a66",
   "metadata": {},
   "outputs": [],
   "source": [
    "class PawpularityEmbeddingsDataset(data.Dataset):\n",
    "    def __init__(self, x, y):\n",
    "        super().__init__()\n",
    "        \n",
    "        self.x = x\n",
    "        self.y = y[:, np.newaxis]\n",
    "    \n",
    "    def __len__(self):\n",
    "        return len(self.y)\n",
    "    \n",
    "    def __getitem__(self, idx):\n",
    "        return self.x[idx], self.y[idx]"
   ]
  },
  {
   "cell_type": "code",
   "execution_count": 365,
   "id": "8b878384-d827-4a74-854f-0ee2ce1d7cb1",
   "metadata": {},
   "outputs": [],
   "source": [
    "class PawpularityHead(nn.Module):\n",
    "    def __init__(self, in_dim):\n",
    "        super().__init__()\n",
    "        self.fc = nn.Linear(in_dim, 1)\n",
    "        self.fc_act = nn.Sigmoid() # for test simplicity\n",
    "        \n",
    "    def forward(self, x):\n",
    "        x = self.fc(x)\n",
    "        x = self.fc_act(x)\n",
    "        \n",
    "        return x"
   ]
  },
  {
   "cell_type": "code",
   "execution_count": 366,
   "id": "a817282a-45df-4b27-bc7a-71882e7892e7",
   "metadata": {},
   "outputs": [],
   "source": [
    "def test(module, test_dl, metrics:dict):\n",
    "    module = module.train(False)\n",
    "    \n",
    "    yh = []\n",
    "    yt = []\n",
    "    with torch.no_grad():\n",
    "        for x, y in test_dl:\n",
    "            yhc = module(x).detach().cpu().numpy()\n",
    "            yh.append(yhc)\n",
    "            yt.append(y)\n",
    "            \n",
    "    yh = np.concatenate(yh, axis=0)\n",
    "    y = np.concatenate(yt, axis=0)\n",
    "    \n",
    "    res = {}\n",
    "    for mname, mfunc in metrics.items():\n",
    "        res[mname] = mfunc(yh, y)\n",
    "    \n",
    "    return res"
   ]
  },
  {
   "cell_type": "code",
   "execution_count": 367,
   "id": "766d9dc6-134e-4816-bf6f-5ec2db1b8739",
   "metadata": {},
   "outputs": [],
   "source": [
    "def train(\n",
    "    module: nn.Module, \n",
    "    loss_f, \n",
    "    optimizer: torch.optim.Optimizer, \n",
    "    train_dl: data.DataLoader, \n",
    "    test_dl: data.DataLoader, \n",
    "    epochs: int,\n",
    "    loss_alpha=0.01,\n",
    "    pbar_update_steps: int=100,\n",
    "    ):\n",
    "    \n",
    "    logs = []\n",
    "    test_logs = []\n",
    "    for epoch in range(epochs):\n",
    "        module = module.train(True)\n",
    "        with tqdm(total=len(train_dl)) as pbar:\n",
    "            pbar.set_description(f'epoch {epoch}')\n",
    "            \n",
    "            for step, (x, y) in enumerate(train_dl):\n",
    "                yh = module(x)\n",
    "                loss = loss_f(yh, y)\n",
    "#                 loss_reg = l1_reg(module)\n",
    "                \n",
    "#                 loss_full = loss + loss_alpha * loss_reg\n",
    "                loss_full = loss\n",
    "    \n",
    "                optimizer.zero_grad()\n",
    "                loss_full.backward()\n",
    "                optimizer.step()\n",
    "                \n",
    "                loss = loss.detach().cpu().numpy()\n",
    "#                 loss_reg = loss_reg.detach().cpu().numpy()\n",
    "                \n",
    "                log = {\n",
    "                    'loss' : float(loss), \n",
    "#                     'loss_reg': float(loss_reg),\n",
    "                    'rmse': rmse(yh.detach().cpu().numpy(), y.detach().cpu().numpy()),\n",
    "                }\n",
    "                logs.append(log)\n",
    "                \n",
    "                if step % pbar_update_steps == 0:\n",
    "                    running_loss = np.mean([log['loss'] for log in logs[-pbar_update_steps:]])\n",
    "                    pbar.set_postfix({'loss' : running_loss})\n",
    "                pbar.update()\n",
    "        \n",
    "        test_metrics = test(module, test_dl, {'rmse' : rmse})\n",
    "        test_logs.append(test_metrics)\n",
    "        print(test_metrics)\n",
    "    \n",
    "    return logs, test_logs"
   ]
  },
  {
   "cell_type": "code",
   "execution_count": 368,
   "id": "87076c86-e554-487b-946d-7ee99537cb6e",
   "metadata": {},
   "outputs": [],
   "source": [
    "METRIC_COLLECTION_STEPS = 100\n",
    "SUB_EXP_NAME = 'dim_reduction'\n",
    "SUB_EXP_ARTIFACTS = os.path.join(ARTIFCAT_PATH, SUB_EXP_NAME)\n",
    "os.makedirs(SUB_EXP_ARTIFACTS, exist_ok=True)"
   ]
  },
  {
   "cell_type": "code",
   "execution_count": 369,
   "id": "97185b89-455d-453a-aaa8-0768f7b3cc3d",
   "metadata": {},
   "outputs": [
    {
     "data": {
      "application/json": {
       "ascii": false,
       "bar_format": null,
       "colour": null,
       "elapsed": 0.020470142364501953,
       "initial": 0,
       "n": 0,
       "ncols": null,
       "nrows": null,
       "postfix": null,
       "prefix": "",
       "rate": null,
       "total": 109,
       "unit": "it",
       "unit_divisor": 1000,
       "unit_scale": false
      },
      "application/vnd.jupyter.widget-view+json": {
       "model_id": "84d64ca98f9342a99952ad8da901fc92",
       "version_major": 2,
       "version_minor": 0
      },
      "text/plain": [
       "  0%|          | 0/109 [00:00<?, ?it/s]"
      ]
     },
     "metadata": {},
     "output_type": "display_data"
    },
    {
     "name": "stdout",
     "output_type": "stream",
     "text": [
      "{'rmse': 0.2195606283303006}\n"
     ]
    },
    {
     "data": {
      "application/json": {
       "ascii": false,
       "bar_format": null,
       "colour": null,
       "elapsed": 0.018370389938354492,
       "initial": 0,
       "n": 0,
       "ncols": null,
       "nrows": null,
       "postfix": null,
       "prefix": "",
       "rate": null,
       "total": 109,
       "unit": "it",
       "unit_divisor": 1000,
       "unit_scale": false
      },
      "application/vnd.jupyter.widget-view+json": {
       "model_id": "af99b4932ac246a6aa32975d968d50a2",
       "version_major": 2,
       "version_minor": 0
      },
      "text/plain": [
       "  0%|          | 0/109 [00:00<?, ?it/s]"
      ]
     },
     "metadata": {},
     "output_type": "display_data"
    },
    {
     "name": "stdout",
     "output_type": "stream",
     "text": [
      "{'rmse': 0.21258374064807858}\n"
     ]
    },
    {
     "data": {
      "application/json": {
       "ascii": false,
       "bar_format": null,
       "colour": null,
       "elapsed": 0.019219636917114258,
       "initial": 0,
       "n": 0,
       "ncols": null,
       "nrows": null,
       "postfix": null,
       "prefix": "",
       "rate": null,
       "total": 109,
       "unit": "it",
       "unit_divisor": 1000,
       "unit_scale": false
      },
      "application/vnd.jupyter.widget-view+json": {
       "model_id": "d4994d0b9e944181bc9f105401f78f02",
       "version_major": 2,
       "version_minor": 0
      },
      "text/plain": [
       "  0%|          | 0/109 [00:00<?, ?it/s]"
      ]
     },
     "metadata": {},
     "output_type": "display_data"
    },
    {
     "name": "stdout",
     "output_type": "stream",
     "text": [
      "{'rmse': 0.20943584874582796}\n"
     ]
    },
    {
     "data": {
      "application/json": {
       "ascii": false,
       "bar_format": null,
       "colour": null,
       "elapsed": 0.018175601959228516,
       "initial": 0,
       "n": 0,
       "ncols": null,
       "nrows": null,
       "postfix": null,
       "prefix": "",
       "rate": null,
       "total": 109,
       "unit": "it",
       "unit_divisor": 1000,
       "unit_scale": false
      },
      "application/vnd.jupyter.widget-view+json": {
       "model_id": "d1990dcccec04df8b8acbb818cdc4e21",
       "version_major": 2,
       "version_minor": 0
      },
      "text/plain": [
       "  0%|          | 0/109 [00:00<?, ?it/s]"
      ]
     },
     "metadata": {},
     "output_type": "display_data"
    },
    {
     "name": "stdout",
     "output_type": "stream",
     "text": [
      "{'rmse': 0.2079153527022094}\n"
     ]
    },
    {
     "data": {
      "application/json": {
       "ascii": false,
       "bar_format": null,
       "colour": null,
       "elapsed": 0.02115178108215332,
       "initial": 0,
       "n": 0,
       "ncols": null,
       "nrows": null,
       "postfix": null,
       "prefix": "",
       "rate": null,
       "total": 109,
       "unit": "it",
       "unit_divisor": 1000,
       "unit_scale": false
      },
      "application/vnd.jupyter.widget-view+json": {
       "model_id": "f1049bc08a3c40119484ad7d01a7e4aa",
       "version_major": 2,
       "version_minor": 0
      },
      "text/plain": [
       "  0%|          | 0/109 [00:00<?, ?it/s]"
      ]
     },
     "metadata": {},
     "output_type": "display_data"
    },
    {
     "name": "stdout",
     "output_type": "stream",
     "text": [
      "{'rmse': 0.20737141428233619}\n"
     ]
    },
    {
     "data": {
      "application/json": {
       "ascii": false,
       "bar_format": null,
       "colour": null,
       "elapsed": 0.017990827560424805,
       "initial": 0,
       "n": 0,
       "ncols": null,
       "nrows": null,
       "postfix": null,
       "prefix": "",
       "rate": null,
       "total": 109,
       "unit": "it",
       "unit_divisor": 1000,
       "unit_scale": false
      },
      "application/vnd.jupyter.widget-view+json": {
       "model_id": "ec6e8164f9384963b97bef07e0f36626",
       "version_major": 2,
       "version_minor": 0
      },
      "text/plain": [
       "  0%|          | 0/109 [00:00<?, ?it/s]"
      ]
     },
     "metadata": {},
     "output_type": "display_data"
    },
    {
     "name": "stdout",
     "output_type": "stream",
     "text": [
      "{'rmse': 0.20737515083109756}\n"
     ]
    },
    {
     "data": {
      "application/json": {
       "ascii": false,
       "bar_format": null,
       "colour": null,
       "elapsed": 0.017950773239135742,
       "initial": 0,
       "n": 0,
       "ncols": null,
       "nrows": null,
       "postfix": null,
       "prefix": "",
       "rate": null,
       "total": 109,
       "unit": "it",
       "unit_divisor": 1000,
       "unit_scale": false
      },
      "application/vnd.jupyter.widget-view+json": {
       "model_id": "0203bb2ea3e24e779ef989f84f929c4d",
       "version_major": 2,
       "version_minor": 0
      },
      "text/plain": [
       "  0%|          | 0/109 [00:00<?, ?it/s]"
      ]
     },
     "metadata": {},
     "output_type": "display_data"
    },
    {
     "name": "stdout",
     "output_type": "stream",
     "text": [
      "{'rmse': 0.2076382196634268}\n"
     ]
    },
    {
     "data": {
      "application/json": {
       "ascii": false,
       "bar_format": null,
       "colour": null,
       "elapsed": 0.01807427406311035,
       "initial": 0,
       "n": 0,
       "ncols": null,
       "nrows": null,
       "postfix": null,
       "prefix": "",
       "rate": null,
       "total": 109,
       "unit": "it",
       "unit_divisor": 1000,
       "unit_scale": false
      },
      "application/vnd.jupyter.widget-view+json": {
       "model_id": "fcb61c7d3d96474da857d574826fcecf",
       "version_major": 2,
       "version_minor": 0
      },
      "text/plain": [
       "  0%|          | 0/109 [00:00<?, ?it/s]"
      ]
     },
     "metadata": {},
     "output_type": "display_data"
    },
    {
     "name": "stdout",
     "output_type": "stream",
     "text": [
      "{'rmse': 0.20798898889322912}\n"
     ]
    },
    {
     "data": {
      "application/json": {
       "ascii": false,
       "bar_format": null,
       "colour": null,
       "elapsed": 0.018111467361450195,
       "initial": 0,
       "n": 0,
       "ncols": null,
       "nrows": null,
       "postfix": null,
       "prefix": "",
       "rate": null,
       "total": 109,
       "unit": "it",
       "unit_divisor": 1000,
       "unit_scale": false
      },
      "application/vnd.jupyter.widget-view+json": {
       "model_id": "ce0b227f5839435dbf4d270719b2ad20",
       "version_major": 2,
       "version_minor": 0
      },
      "text/plain": [
       "  0%|          | 0/109 [00:00<?, ?it/s]"
      ]
     },
     "metadata": {},
     "output_type": "display_data"
    },
    {
     "name": "stdout",
     "output_type": "stream",
     "text": [
      "{'rmse': 0.2083380768156452}\n"
     ]
    },
    {
     "data": {
      "application/json": {
       "ascii": false,
       "bar_format": null,
       "colour": null,
       "elapsed": 0.019285202026367188,
       "initial": 0,
       "n": 0,
       "ncols": null,
       "nrows": null,
       "postfix": null,
       "prefix": "",
       "rate": null,
       "total": 109,
       "unit": "it",
       "unit_divisor": 1000,
       "unit_scale": false
      },
      "application/vnd.jupyter.widget-view+json": {
       "model_id": "5e13bf12f37f492592442af212e51b0c",
       "version_major": 2,
       "version_minor": 0
      },
      "text/plain": [
       "  0%|          | 0/109 [00:00<?, ?it/s]"
      ]
     },
     "metadata": {},
     "output_type": "display_data"
    },
    {
     "name": "stdout",
     "output_type": "stream",
     "text": [
      "{'rmse': 0.2086465458009477}\n"
     ]
    },
    {
     "data": {
      "application/json": {
       "ascii": false,
       "bar_format": null,
       "colour": null,
       "elapsed": 0.02083420753479004,
       "initial": 0,
       "n": 0,
       "ncols": null,
       "nrows": null,
       "postfix": null,
       "prefix": "",
       "rate": null,
       "total": 109,
       "unit": "it",
       "unit_divisor": 1000,
       "unit_scale": false
      },
      "application/vnd.jupyter.widget-view+json": {
       "model_id": "643aa6a28c48459b9a204b63a0970833",
       "version_major": 2,
       "version_minor": 0
      },
      "text/plain": [
       "  0%|          | 0/109 [00:00<?, ?it/s]"
      ]
     },
     "metadata": {},
     "output_type": "display_data"
    },
    {
     "name": "stdout",
     "output_type": "stream",
     "text": [
      "{'rmse': 0.2089027263113074}\n"
     ]
    },
    {
     "data": {
      "application/json": {
       "ascii": false,
       "bar_format": null,
       "colour": null,
       "elapsed": 0.058447837829589844,
       "initial": 0,
       "n": 0,
       "ncols": null,
       "nrows": null,
       "postfix": null,
       "prefix": "",
       "rate": null,
       "total": 109,
       "unit": "it",
       "unit_divisor": 1000,
       "unit_scale": false
      },
      "application/vnd.jupyter.widget-view+json": {
       "model_id": "063e0adb6c82401babf689c9586a6c06",
       "version_major": 2,
       "version_minor": 0
      },
      "text/plain": [
       "  0%|          | 0/109 [00:00<?, ?it/s]"
      ]
     },
     "metadata": {},
     "output_type": "display_data"
    },
    {
     "name": "stdout",
     "output_type": "stream",
     "text": [
      "{'rmse': 0.20910787943778592}\n"
     ]
    },
    {
     "data": {
      "application/json": {
       "ascii": false,
       "bar_format": null,
       "colour": null,
       "elapsed": 0.018390417098999023,
       "initial": 0,
       "n": 0,
       "ncols": null,
       "nrows": null,
       "postfix": null,
       "prefix": "",
       "rate": null,
       "total": 109,
       "unit": "it",
       "unit_divisor": 1000,
       "unit_scale": false
      },
      "application/vnd.jupyter.widget-view+json": {
       "model_id": "104a675e762a46329f5e2439da03cb2e",
       "version_major": 2,
       "version_minor": 0
      },
      "text/plain": [
       "  0%|          | 0/109 [00:00<?, ?it/s]"
      ]
     },
     "metadata": {},
     "output_type": "display_data"
    },
    {
     "name": "stdout",
     "output_type": "stream",
     "text": [
      "{'rmse': 0.2092685015826834}\n"
     ]
    },
    {
     "data": {
      "application/json": {
       "ascii": false,
       "bar_format": null,
       "colour": null,
       "elapsed": 0.018129348754882812,
       "initial": 0,
       "n": 0,
       "ncols": null,
       "nrows": null,
       "postfix": null,
       "prefix": "",
       "rate": null,
       "total": 109,
       "unit": "it",
       "unit_divisor": 1000,
       "unit_scale": false
      },
      "application/vnd.jupyter.widget-view+json": {
       "model_id": "55f1bd25d56e412e8370bea98c72317a",
       "version_major": 2,
       "version_minor": 0
      },
      "text/plain": [
       "  0%|          | 0/109 [00:00<?, ?it/s]"
      ]
     },
     "metadata": {},
     "output_type": "display_data"
    },
    {
     "name": "stdout",
     "output_type": "stream",
     "text": [
      "{'rmse': 0.20939241664243224}\n"
     ]
    },
    {
     "data": {
      "application/json": {
       "ascii": false,
       "bar_format": null,
       "colour": null,
       "elapsed": 0.018426179885864258,
       "initial": 0,
       "n": 0,
       "ncols": null,
       "nrows": null,
       "postfix": null,
       "prefix": "",
       "rate": null,
       "total": 109,
       "unit": "it",
       "unit_divisor": 1000,
       "unit_scale": false
      },
      "application/vnd.jupyter.widget-view+json": {
       "model_id": "1668a92e20834fbfa26f126c7060a39c",
       "version_major": 2,
       "version_minor": 0
      },
      "text/plain": [
       "  0%|          | 0/109 [00:00<?, ?it/s]"
      ]
     },
     "metadata": {},
     "output_type": "display_data"
    },
    {
     "name": "stdout",
     "output_type": "stream",
     "text": [
      "{'rmse': 0.20948704312232194}\n"
     ]
    },
    {
     "data": {
      "application/json": {
       "ascii": false,
       "bar_format": null,
       "colour": null,
       "elapsed": 0.01807880401611328,
       "initial": 0,
       "n": 0,
       "ncols": null,
       "nrows": null,
       "postfix": null,
       "prefix": "",
       "rate": null,
       "total": 109,
       "unit": "it",
       "unit_divisor": 1000,
       "unit_scale": false
      },
      "application/vnd.jupyter.widget-view+json": {
       "model_id": "f71bdb7407cc42ab9724d587c9338582",
       "version_major": 2,
       "version_minor": 0
      },
      "text/plain": [
       "  0%|          | 0/109 [00:00<?, ?it/s]"
      ]
     },
     "metadata": {},
     "output_type": "display_data"
    },
    {
     "name": "stdout",
     "output_type": "stream",
     "text": [
      "{'rmse': 0.20955883823066007}\n"
     ]
    },
    {
     "data": {
      "application/json": {
       "ascii": false,
       "bar_format": null,
       "colour": null,
       "elapsed": 0.019004106521606445,
       "initial": 0,
       "n": 0,
       "ncols": null,
       "nrows": null,
       "postfix": null,
       "prefix": "",
       "rate": null,
       "total": 109,
       "unit": "it",
       "unit_divisor": 1000,
       "unit_scale": false
      },
      "application/vnd.jupyter.widget-view+json": {
       "model_id": "71b1ffcb5c734d46ae4b1ed9f61d6808",
       "version_major": 2,
       "version_minor": 0
      },
      "text/plain": [
       "  0%|          | 0/109 [00:00<?, ?it/s]"
      ]
     },
     "metadata": {},
     "output_type": "display_data"
    },
    {
     "name": "stdout",
     "output_type": "stream",
     "text": [
      "{'rmse': 0.20961306829962956}\n"
     ]
    },
    {
     "data": {
      "application/json": {
       "ascii": false,
       "bar_format": null,
       "colour": null,
       "elapsed": 0.022014379501342773,
       "initial": 0,
       "n": 0,
       "ncols": null,
       "nrows": null,
       "postfix": null,
       "prefix": "",
       "rate": null,
       "total": 109,
       "unit": "it",
       "unit_divisor": 1000,
       "unit_scale": false
      },
      "application/vnd.jupyter.widget-view+json": {
       "model_id": "b1c3fcb5303a410c8694fcc84192ac49",
       "version_major": 2,
       "version_minor": 0
      },
      "text/plain": [
       "  0%|          | 0/109 [00:00<?, ?it/s]"
      ]
     },
     "metadata": {},
     "output_type": "display_data"
    },
    {
     "name": "stdout",
     "output_type": "stream",
     "text": [
      "{'rmse': 0.20965391377574424}\n"
     ]
    },
    {
     "data": {
      "application/json": {
       "ascii": false,
       "bar_format": null,
       "colour": null,
       "elapsed": 0.017104148864746094,
       "initial": 0,
       "n": 0,
       "ncols": null,
       "nrows": null,
       "postfix": null,
       "prefix": "",
       "rate": null,
       "total": 109,
       "unit": "it",
       "unit_divisor": 1000,
       "unit_scale": false
      },
      "application/vnd.jupyter.widget-view+json": {
       "model_id": "e36fb3c0d0f54f59b04aedb5f0b34957",
       "version_major": 2,
       "version_minor": 0
      },
      "text/plain": [
       "  0%|          | 0/109 [00:00<?, ?it/s]"
      ]
     },
     "metadata": {},
     "output_type": "display_data"
    },
    {
     "name": "stdout",
     "output_type": "stream",
     "text": [
      "{'rmse': 0.20968463371296256}\n"
     ]
    },
    {
     "data": {
      "application/json": {
       "ascii": false,
       "bar_format": null,
       "colour": null,
       "elapsed": 0.01848006248474121,
       "initial": 0,
       "n": 0,
       "ncols": null,
       "nrows": null,
       "postfix": null,
       "prefix": "",
       "rate": null,
       "total": 109,
       "unit": "it",
       "unit_divisor": 1000,
       "unit_scale": false
      },
      "application/vnd.jupyter.widget-view+json": {
       "model_id": "f084a68d127b47b4945401ab9995eec7",
       "version_major": 2,
       "version_minor": 0
      },
      "text/plain": [
       "  0%|          | 0/109 [00:00<?, ?it/s]"
      ]
     },
     "metadata": {},
     "output_type": "display_data"
    },
    {
     "name": "stdout",
     "output_type": "stream",
     "text": [
      "{'rmse': 0.20970773732841996}\n"
     ]
    }
   ],
   "source": [
    "model = PawpularityHead(EMB_SIZE)\n",
    "embs_dataset_train = PawpularityEmbeddingsDataset(x_train, y_train)\n",
    "embs_dataset_val = PawpularityEmbeddingsDataset(x_val, y_val)\n",
    "\n",
    "loader_train = data.DataLoader(embs_dataset_train, 64)\n",
    "loader_val = data.DataLoader(embs_dataset_val, 64)\n",
    "\n",
    "loss_fn = nn.BCELoss()\n",
    "optimizer = torch.optim.Adam(model.parameters(), lr=1e-3)\n",
    "logs, test_logs = train(\n",
    "    model, \n",
    "    loss_fn, \n",
    "    optimizer, \n",
    "    loader_train, \n",
    "    loader_val, \n",
    "    epochs=20, \n",
    "#     loss_alpha=0.001,\n",
    "    pbar_update_steps=METRIC_COLLECTION_STEPS)"
   ]
  },
  {
   "cell_type": "code",
   "execution_count": 370,
   "id": "70ed2e7a-a30d-4a96-8ce0-ec5836e60e66",
   "metadata": {},
   "outputs": [
    {
     "data": {
      "text/plain": [
       "{'loss': 0.704971194267273, 'rmse': 0.26365418551410913}"
      ]
     },
     "execution_count": 370,
     "metadata": {},
     "output_type": "execute_result"
    }
   ],
   "source": [
    "logs[0]"
   ]
  },
  {
   "cell_type": "code",
   "execution_count": 371,
   "id": "af7d646a-9bc3-4a52-9290-ede9a3733b33",
   "metadata": {},
   "outputs": [],
   "source": [
    "save_pickle(logs, os.path.join(SUB_EXP_ARTIFACTS, 'train_logs.pkl'))\n",
    "save_pickle(test_logs, os.path.join(SUB_EXP_ARTIFACTS, 'test_logs.pkl'))\n",
    "save_pickle(model.state_dict(), os.path.join(SUB_EXP_ARTIFACTS, 'state_dict.pkl'))"
   ]
  },
  {
   "cell_type": "code",
   "execution_count": 372,
   "id": "bc44e31f-1eb6-479b-9855-b3fed4861b74",
   "metadata": {},
   "outputs": [
    {
     "data": {
      "text/plain": [
       "0.2097"
      ]
     },
     "execution_count": 372,
     "metadata": {},
     "output_type": "execute_result"
    }
   ],
   "source": [
    "round(test_logs[-1]['rmse'], 4)"
   ]
  },
  {
   "cell_type": "code",
   "execution_count": 373,
   "id": "75881acc-e026-4ad0-9774-2f1854deba82",
   "metadata": {},
   "outputs": [],
   "source": [
    "train_logs_df = pd.DataFrame(logs)\n",
    "\n",
    "test_logs_df = pd.DataFrame(test_logs)\n",
    "test_logs_df.index = test_logs_df.index * METRIC_COLLECTION_STEPS + METRIC_COLLECTION_STEPS"
   ]
  },
  {
   "cell_type": "code",
   "execution_count": 374,
   "id": "e69118ec-c32e-453d-ae68-ea68f26708b2",
   "metadata": {},
   "outputs": [
    {
     "data": {
      "image/png": "[encoded data removed]",
      "text/plain": [
       "<Figure size 432x288 with 1 Axes>"
      ]
     },
     "metadata": {
      "needs_background": "light"
     },
     "output_type": "display_data"
    }
   ],
   "source": [
    "plt.xlabel('steps')\n",
    "plt.ylabel('rmse')\n",
    "train_logs_df['rmse'].rolling(METRIC_COLLECTION_STEPS).mean().plot()\n",
    "test_logs_df['rmse'].plot()\n",
    "plt.savefig(os.path.join(SUB_EXP_ARTIFACTS, 'rmse_plot.png'))"
   ]
  },
  {
   "cell_type": "code",
   "execution_count": 345,
   "id": "f56150ff-a9f2-4a61-857d-de99e89913ac",
   "metadata": {},
   "outputs": [
    {
     "data": {
      "text/plain": [
       "1"
      ]
     },
     "execution_count": 345,
     "metadata": {},
     "output_type": "execute_result"
    }
   ],
   "source": [
    "np.sum(np.abs(model.fc.weight.detach().cpu().numpy()[0]) < 1e-5)"
   ]
  },
  {
   "cell_type": "code",
   "execution_count": 336,
   "id": "50da691c-b4d6-49bc-92f2-424bbb539a64",
   "metadata": {},
   "outputs": [
    {
     "data": {
      "text/plain": [
       "(array([ 10.,  22.,  81., 138., 146.,  68.,  36.,   8.,   2.,   1.]),\n",
       " array([-0.1030893 , -0.07744635, -0.0518034 , -0.02616044, -0.00051749,\n",
       "         0.02512547,  0.05076842,  0.07641137,  0.10205433,  0.12769729,\n",
       "         0.15334024], dtype=float32),\n",
       " <BarContainer object of 10 artists>)"
      ]
     },
     "execution_count": 336,
     "metadata": {},
     "output_type": "execute_result"
    },
    {
     "data": {
      "image/png": "[encoded data removed]",
      "text/plain": [
       "<Figure size 432x288 with 1 Axes>"
      ]
     },
     "metadata": {
      "needs_background": "light"
     },
     "output_type": "display_data"
    }
   ],
   "source": [
    "plt.hist(model.fc.weight.detach().cpu().numpy()[0])"
   ]
  },
  {
   "cell_type": "code",
   "execution_count": 190,
   "id": "3d7fa3eb-58c5-4999-ba6f-873e630e766f",
   "metadata": {},
   "outputs": [
    {
     "data": {
      "text/plain": [
       "'efficientnet/artifacts/l2_regularization/model.ipynb'"
      ]
     },
     "execution_count": 190,
     "metadata": {},
     "output_type": "execute_result"
    }
   ],
   "source": [
    "shutil.copyfile(NOTEBOOK_NAME, os.path.join(SUB_EXP_ARTIFACTS, 'model.ipynb'))"
   ]
  },
  {
   "cell_type": "code",
   "execution_count": null,
   "id": "f1acb1f2-b966-4077-949d-9256dba65caf",
   "metadata": {},
   "outputs": [],
   "source": []
  }
 ],
 "metadata": {
  "kernelspec": {
   "display_name": "Python 3 (ipykernel)",
   "language": "python",
   "name": "python3"
  },
  "language_info": {
   "codemirror_mode": {
    "name": "ipython",
    "version": 3
   },
   "file_extension": ".py",
   "mimetype": "text/x-python",
   "name": "python",
   "nbconvert_exporter": "python",
   "pygments_lexer": "ipython3",
   "version": "3.8.10"
  }
 },
 "nbformat": 4,
 "nbformat_minor": 5
}
