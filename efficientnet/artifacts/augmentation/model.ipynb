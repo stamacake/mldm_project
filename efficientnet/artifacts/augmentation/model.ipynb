{
 "cells": [
  {
   "cell_type": "code",
   "execution_count": 2,
   "id": "f832259c-d843-400c-bde3-8e0b41df4bd1",
   "metadata": {},
   "outputs": [],
   "source": [
    "NOTEBOOK_NAME = 'model.ipynb'"
   ]
  },
  {
   "cell_type": "code",
   "execution_count": 3,
   "id": "870be893-bbd9-4396-9eb9-1da4177bf894",
   "metadata": {},
   "outputs": [],
   "source": [
    "import os\n",
    "import tqdm\n",
    "import matplotlib.pyplot as plt\n",
    "\n",
    "import numpy as np\n",
    "from sklearn.metrics.pairwise import cosine_similarity\n",
    "\n",
    "import torch\n",
    "from torch import nn\n",
    "import torchvision as tv\n",
    "\n",
    "from torchvision.models import efficientnet, EfficientNet_V2_M_Weights\n",
    "from torchvision import datasets, transforms\n",
    "\n",
    "from utils import save_pickle, load_pickle, ImageSearcher"
   ]
  },
  {
   "cell_type": "code",
   "execution_count": 4,
   "id": "90d9154f-4467-48f4-9fef-ef2be3edec26",
   "metadata": {},
   "outputs": [],
   "source": [
    "EXP_NAME = 'efficientnet'\n",
    "ARTIFCAT_PATH = os.path.join(EXP_NAME, 'artifacts')\n",
    "os.makedirs(ARTIFCAT_PATH, exist_ok=True)"
   ]
  },
  {
   "cell_type": "code",
   "execution_count": 5,
   "id": "0da8ed2e-4362-45f7-af65-0ab699f4e295",
   "metadata": {},
   "outputs": [
    {
     "data": {
      "text/plain": [
       "'cuda:1'"
      ]
     },
     "execution_count": 5,
     "metadata": {},
     "output_type": "execute_result"
    }
   ],
   "source": [
    "device = 'cuda:1' if torch.cuda.is_available() else 'cpu'\n",
    "device"
   ]
  },
  {
   "cell_type": "code",
   "execution_count": 6,
   "id": "b22a2b07-fd88-4e04-8523-ab3506922249",
   "metadata": {},
   "outputs": [],
   "source": [
    "searcher = ImageSearcher('train')"
   ]
  },
  {
   "cell_type": "markdown",
   "id": "85f03535-9166-421b-adf0-f45e51dbf264",
   "metadata": {},
   "source": [
    "## Dataset"
   ]
  },
  {
   "cell_type": "code",
   "execution_count": 7,
   "id": "63210e78-dce8-402a-92e2-78e3e958bcca",
   "metadata": {},
   "outputs": [],
   "source": [
    "class ImageLoader(torch.utils.data.Dataset):\n",
    "    def __init__(self, folder, transform=None):\n",
    "        self.folder = folder\n",
    "        files = os.listdir(self.folder)\n",
    "        self.labels = ['.'.join(e.split('.')[:-1]) for e in files]\n",
    "        self.files = [os.path.join(folder, f) for f in files]\n",
    "        self.transform = transform\n",
    "        \n",
    "    def __len__(self):\n",
    "        return len(self.files)\n",
    "    \n",
    "    def __getitem__(self, idx):\n",
    "        image_path = self.files[idx]\n",
    "        image = tv.io.read_image(image_path)\n",
    "        if self.transform is not None:\n",
    "            image = self.transform(image)\n",
    "        \n",
    "        label = self.labels[idx]\n",
    "        \n",
    "        return (image, label)"
   ]
  },
  {
   "cell_type": "code",
   "execution_count": 8,
   "id": "58fd10b1-d929-42a2-8f2c-aee7ee6c03a7",
   "metadata": {},
   "outputs": [],
   "source": [
    "IMAGE_SIZE = 480\n",
    "\n",
    "\n",
    "ds_train = ImageLoader(\n",
    "    folder='torch_data/train',\n",
    "    transform=transforms.Compose([\n",
    "        transforms.Resize(IMAGE_SIZE),\n",
    "        transforms.CenterCrop(IMAGE_SIZE),\n",
    "        transforms.ConvertImageDtype(torch.float32),\n",
    "    ])\n",
    ")\n",
    "\n",
    "ds_val = ImageLoader(\n",
    "    folder='torch_data/val',\n",
    "    transform=transforms.Compose([\n",
    "        transforms.Resize(IMAGE_SIZE),\n",
    "        transforms.CenterCrop(IMAGE_SIZE),\n",
    "        transforms.ConvertImageDtype(torch.float32),\n",
    "    ])\n",
    ")"
   ]
  },
  {
   "cell_type": "code",
   "execution_count": 9,
   "id": "9d7728f5-96e1-49b3-b792-8d5d1b3b940a",
   "metadata": {},
   "outputs": [],
   "source": [
    "train_loader = torch.utils.data.DataLoader(\n",
    "    ds_train,\n",
    "    64,\n",
    ")\n",
    "\n",
    "val_loader = torch.utils.data.DataLoader(\n",
    "    ds_val,\n",
    "    64,\n",
    ")"
   ]
  },
  {
   "cell_type": "markdown",
   "id": "78aa5e50-103e-46df-90dc-731dfaeeada6",
   "metadata": {},
   "source": [
    "## Model"
   ]
  },
  {
   "cell_type": "code",
   "execution_count": 10,
   "id": "c1daedc5-f3d5-477f-bbd4-938ec05ab9c6",
   "metadata": {},
   "outputs": [
    {
     "name": "stderr",
     "output_type": "stream",
     "text": [
      "/opt/conda/lib/python3.8/site-packages/torchvision/models/_utils.py:135: UserWarning: Using 'weights' as positional parameter(s) is deprecated since 0.13 and may be removed in the future. Please use keyword parameter(s) instead.\n",
      "  warnings.warn(\n"
     ]
    }
   ],
   "source": [
    "model = efficientnet.efficientnet_v2_m(EfficientNet_V2_M_Weights.IMAGENET1K_V1)\n",
    "model.classifier[1] = nn.Identity()"
   ]
  },
  {
   "cell_type": "code",
   "execution_count": 8,
   "id": "7cff9515-7fb1-43ff-a6ef-3c3d6f37b9ec",
   "metadata": {},
   "outputs": [],
   "source": [
    "model = model.to(device)"
   ]
  },
  {
   "cell_type": "markdown",
   "id": "758fe15b-024b-4923-b43d-cdacce827b9d",
   "metadata": {},
   "source": [
    "## Embeddings"
   ]
  },
  {
   "cell_type": "code",
   "execution_count": 23,
   "id": "9c77eb95-0dc5-4773-af28-ce12320aa69b",
   "metadata": {},
   "outputs": [],
   "source": [
    "def collect_preds(module, loader):\n",
    "    x_all = []\n",
    "    y_all = []\n",
    "    for x, y in tqdm.tqdm(loader):\n",
    "        with torch.no_grad():\n",
    "            x = model(x.to(device)).cpu().numpy()\n",
    "            x_all.append(x)\n",
    "            y_all.append(y)\n",
    "            \n",
    "    x_all = np.concatenate(x_all, axis=0)\n",
    "    y_all = np.concatenate(y_all, axis=0)\n",
    "    \n",
    "    return x_all, y_all"
   ]
  },
  {
   "cell_type": "markdown",
   "id": "c61a4008-4c23-40f9-b6b7-5657a4092cae",
   "metadata": {},
   "source": [
    "### computing embeddings"
   ]
  },
  {
   "cell_type": "code",
   "execution_count": 24,
   "id": "6db268d0-8ae3-4804-abe2-ebffa38f2afa",
   "metadata": {},
   "outputs": [
    {
     "name": "stderr",
     "output_type": "stream",
     "text": [
      "100%|██████████| 109/109 [05:19<00:00,  2.93s/it]\n"
     ]
    }
   ],
   "source": [
    "x_train, y_train = collect_preds(model, train_loader)\n",
    "x_val, y_val = collect_preds(model, val_loader)"
   ]
  },
  {
   "cell_type": "code",
   "execution_count": 34,
   "id": "80eea1f0-972d-4246-8ecf-6dc990511f17",
   "metadata": {},
   "outputs": [],
   "source": [
    "save_pickle([x_train, y_train], os.path.join(ARTIFCAT_PATH, 'efficientnet_v2_train.pkl'))\n",
    "save_pickle([x_val, y_val], os.path.join(ARTIFCAT_PATH, 'efficientnet_v2_val.pkl'))"
   ]
  },
  {
   "cell_type": "markdown",
   "id": "75a1ceeb-5e48-478b-b235-ad8a7f0cab28",
   "metadata": {},
   "source": [
    "# RAM images"
   ]
  },
  {
   "cell_type": "code",
   "execution_count": 61,
   "id": "097a5f4d-9a37-424f-80e1-f51394bc4456",
   "metadata": {},
   "outputs": [],
   "source": [
    "ds = ImageLoader(\n",
    "    folder='train',\n",
    "    transform=transforms.Compose([\n",
    "        transforms.Resize(IMAGE_SIZE),\n",
    "        transforms.CenterCrop(IMAGE_SIZE),\n",
    "        transforms.ConvertImageDtype(torch.float32),\n",
    "    ])\n",
    ")"
   ]
  },
  {
   "cell_type": "code",
   "execution_count": 69,
   "id": "23a55a04-a247-434f-ab6f-8eb28e51aa8c",
   "metadata": {},
   "outputs": [
    {
     "data": {
      "application/json": {
       "ascii": false,
       "bar_format": null,
       "colour": null,
       "elapsed": 0.023743867874145508,
       "initial": 0,
       "n": 0,
       "ncols": null,
       "nrows": null,
       "postfix": null,
       "prefix": "",
       "rate": null,
       "total": 4212,
       "unit": "it",
       "unit_divisor": 1000,
       "unit_scale": false
      },
      "application/vnd.jupyter.widget-view+json": {
       "model_id": "e62dfdcf706944f2b739462cb66ae50b",
       "version_major": 2,
       "version_minor": 0
      },
      "text/plain": [
       "  0%|          | 0/4212 [00:00<?, ?it/s]"
      ]
     },
     "metadata": {},
     "output_type": "display_data"
    }
   ],
   "source": [
    "# res = []\n",
    "for i in tqdm(range(5701, len(ds))):\n",
    "    res.append(ds[i])"
   ]
  },
  {
   "cell_type": "code",
   "execution_count": 75,
   "id": "e44e9721-3ddb-4196-8db3-e063621a5254",
   "metadata": {},
   "outputs": [],
   "source": [
    "img_ids = [e[1] for e in res]\n",
    "img_data = [e[0] for e in res]\n",
    "id2img = dict(zip(img_ids, img_data))"
   ]
  },
  {
   "cell_type": "markdown",
   "id": "08230914-406b-4cef-b328-573b1244017f",
   "metadata": {},
   "source": [
    "# Model"
   ]
  },
  {
   "cell_type": "code",
   "execution_count": 27,
   "id": "c846dbd2-6755-4aec-b4f4-eb57afca2ac6",
   "metadata": {},
   "outputs": [],
   "source": [
    "import pandas as pd\n",
    "from utils import load_pickle\n",
    "from sklearn.metrics import mean_squared_error\n",
    "import numpy as np\n",
    "\n",
    "import torch\n",
    "from torch import nn\n",
    "from torch.nn import functional as F\n",
    "from torch.utils import data\n",
    "\n",
    "from tqdm.notebook import tqdm\n",
    "import shutil"
   ]
  },
  {
   "cell_type": "code",
   "execution_count": 127,
   "id": "cce56a43-f247-46da-92fe-8304dfd04e8a",
   "metadata": {},
   "outputs": [],
   "source": [
    "# def prepare_data(x, y, meta_all):\n",
    "#     y = meta_all.set_index('Id').loc[y]['Pawpularity'].to_numpy()\n",
    "#     y = y / 100\n",
    "    \n",
    "#     x = x.astype(np.float32)\n",
    "#     y = y.astype(np.float32)\n",
    "\n",
    "#     return x, y\n",
    "\n",
    "\n",
    "def prepare_data(ids, meta_all, id2img):\n",
    "    y = meta_all.set_index('Id').loc[ids]['Pawpularity'].to_numpy()\n",
    "    y = y / 100\n",
    "    \n",
    "    x = [id2img[e] for e in ids]\n",
    "    y = y.astype(np.float32)\n",
    "\n",
    "    return x, y"
   ]
  },
  {
   "cell_type": "code",
   "execution_count": 29,
   "id": "ac5c32f2-4134-4e36-8628-222a229efd09",
   "metadata": {},
   "outputs": [],
   "source": [
    "meta_all = pd.read_csv('train.csv')"
   ]
  },
  {
   "cell_type": "code",
   "execution_count": 186,
   "id": "848696ba-7132-43c4-b16e-a2971cb9e660",
   "metadata": {},
   "outputs": [],
   "source": [
    "# x_train, y_train = load_pickle(os.path.join(ARTIFCAT_PATH, 'efficientnet_v2_train.pkl'))\n",
    "# x_val, y_val = load_pickle(os.path.join(ARTIFCAT_PATH, 'efficientnet_v2_val.pkl'))\n",
    "\n",
    "# x_train, y_train = prepare_data(x_train, y_train, meta_all)\n",
    "# x_val, y_val = prepare_data(x_val, y_val, meta_all)\n",
    "\n",
    "x_train, y_train = prepare_data(pd.read_csv('torch_data/train.csv')['Id'], meta_all, id2img)\n",
    "x_val, y_val = prepare_data(pd.read_csv('torch_data/val.csv')['Id'], meta_all, id2img)"
   ]
  },
  {
   "cell_type": "code",
   "execution_count": 133,
   "id": "307047b4-329c-4f0f-aadd-3d391505afc2",
   "metadata": {},
   "outputs": [],
   "source": [
    "rmse = lambda yh, y: mean_squared_error(y, yh) ** 0.5"
   ]
  },
  {
   "cell_type": "code",
   "execution_count": 84,
   "id": "166a9d76-3f66-47af-aa3a-69895dc25942",
   "metadata": {},
   "outputs": [
    {
     "name": "stderr",
     "output_type": "stream",
     "text": [
      "/opt/conda/lib/python3.8/site-packages/torchvision/models/_utils.py:135: UserWarning: Using 'weights' as positional parameter(s) is deprecated since 0.13 and may be removed in the future. Please use keyword parameter(s) instead.\n",
      "  warnings.warn(\n"
     ]
    }
   ],
   "source": [
    "backbone = efficientnet.efficientnet_v2_m(EfficientNet_V2_M_Weights.IMAGENET1K_V1)\n",
    "backbone.classifier[1] = nn.Identity()\n",
    "backbone = backbone.to(device)"
   ]
  },
  {
   "cell_type": "code",
   "execution_count": 88,
   "id": "579725fa-16ff-4669-9829-6d30114c99bf",
   "metadata": {},
   "outputs": [],
   "source": [
    "for p in backbone.parameters():\n",
    "    p.requires_grad = False"
   ]
  },
  {
   "cell_type": "code",
   "execution_count": 187,
   "id": "d3ba57e6-f85e-4a54-8ff6-250cf342e8aa",
   "metadata": {},
   "outputs": [],
   "source": [
    "def l1_reg(module: nn.Module):\n",
    "    flat_weights = torch.cat([e.view(-1) for e in module.parameters()])\n",
    "    flat_weights = torch.abs(flat_weights)\n",
    "    loss = torch.sum(flat_weights)\n",
    "    \n",
    "    return loss"
   ]
  },
  {
   "cell_type": "code",
   "execution_count": 188,
   "id": "f0474b23-f5bc-4905-9743-8faaa07c5a66",
   "metadata": {},
   "outputs": [],
   "source": [
    "class RAMImagesDataset(data.Dataset):\n",
    "    def __init__(self, x, y, transform=None):\n",
    "        super().__init__()\n",
    "        \n",
    "        self.x = x\n",
    "        self.y = np.array(y)[:, np.newaxis]\n",
    "        self.transform = transform\n",
    "    \n",
    "    def __len__(self):\n",
    "        return len(self.y)\n",
    "    \n",
    "    def __getitem__(self, idx):\n",
    "        x = self.x[idx]\n",
    "        if self.transform is not None:\n",
    "            x = self.transform(x)\n",
    "            \n",
    "        return x, self.y[idx]"
   ]
  },
  {
   "cell_type": "code",
   "execution_count": 189,
   "id": "8b878384-d827-4a74-854f-0ee2ce1d7cb1",
   "metadata": {},
   "outputs": [],
   "source": [
    "class PawpularityHead(nn.Module):\n",
    "    def __init__(self, in_dim, backbone):\n",
    "        super().__init__()\n",
    "        self.backbone = backbone\n",
    "        self.fc = nn.Linear(in_dim, 1)\n",
    "        self.fc_act = nn.Sigmoid() # for test simplicity\n",
    "        \n",
    "    def forward(self, x):\n",
    "        x = self.backbone(x)\n",
    "        x = self.fc(x)\n",
    "        x = self.fc_act(x)\n",
    "        \n",
    "        return x"
   ]
  },
  {
   "cell_type": "code",
   "execution_count": 205,
   "id": "a817282a-45df-4b27-bc7a-71882e7892e7",
   "metadata": {},
   "outputs": [],
   "source": [
    "def test(module, test_dl, metrics:dict):\n",
    "    module = module.train(False)\n",
    "    \n",
    "    yh = []\n",
    "    yt = []\n",
    "    with torch.no_grad():\n",
    "        for x, y in test_dl:\n",
    "            x = x.to(device)\n",
    "            yhc = module(x).detach().cpu().numpy()\n",
    "            yh.append(yhc)\n",
    "            yt.append(y)\n",
    "            \n",
    "    yh = np.concatenate(yh, axis=0)\n",
    "    y = np.concatenate(yt, axis=0)\n",
    "    \n",
    "    res = {}\n",
    "    for mname, mfunc in metrics.items():\n",
    "        res[mname] = mfunc(yh, y)\n",
    "    \n",
    "    return res"
   ]
  },
  {
   "cell_type": "code",
   "execution_count": 202,
   "id": "766d9dc6-134e-4816-bf6f-5ec2db1b8739",
   "metadata": {},
   "outputs": [],
   "source": [
    "def train(\n",
    "    module: nn.Module, \n",
    "    loss_f, \n",
    "    optimizer: torch.optim.Optimizer, \n",
    "    train_dl: data.DataLoader, \n",
    "    test_dl: data.DataLoader, \n",
    "    epochs: int,\n",
    "    loss_alpha=0.01,\n",
    "    pbar_update_steps: int=100,\n",
    "    ):\n",
    "    \n",
    "    logs = []\n",
    "    test_logs = []\n",
    "    for epoch in range(epochs):\n",
    "        module = module.train(True)\n",
    "        with tqdm(total=len(train_dl)) as pbar:\n",
    "            pbar.set_description(f'epoch {epoch}')\n",
    "            \n",
    "            for step, (x, y) in enumerate(train_dl):\n",
    "                x = x.to(device)\n",
    "                y = y.to(device)\n",
    "\n",
    "                yh = module(x)\n",
    "                loss = loss_f(yh, y)\n",
    "#                 loss_reg = l1_reg(module)\n",
    "                \n",
    "#                 loss_full = loss + loss_alpha * loss_reg\n",
    "                loss_full = loss\n",
    "    \n",
    "                optimizer.zero_grad()\n",
    "                loss_full.backward()\n",
    "                optimizer.step()\n",
    "                \n",
    "                loss = loss.detach().cpu().numpy()\n",
    "#                 loss_reg = loss_reg.detach().cpu().numpy()\n",
    "                \n",
    "                log = {\n",
    "                    'loss' : float(loss), \n",
    "#                     'loss_reg': float(loss_reg),\n",
    "                    'rmse': rmse(yh.detach().cpu().numpy(), y.detach().cpu().numpy()),\n",
    "                }\n",
    "                logs.append(log)\n",
    "                \n",
    "                if step % pbar_update_steps == 0:\n",
    "                    running_loss = {\n",
    "                        key: np.mean([log[key] for log in logs[-pbar_update_steps:]])\n",
    "                        for key in log\n",
    "                    }\n",
    "                    pbar.set_postfix(running_loss)\n",
    "                pbar.update()\n",
    "        \n",
    "        test_metrics = test(module, test_dl, {'rmse' : rmse})\n",
    "        test_logs.append(test_metrics)\n",
    "        print(test_metrics)\n",
    "    \n",
    "    return logs, test_logs"
   ]
  },
  {
   "cell_type": "code",
   "execution_count": 203,
   "id": "87076c86-e554-487b-946d-7ee99537cb6e",
   "metadata": {},
   "outputs": [],
   "source": [
    "METRIC_COLLECTION_STEPS = 10\n",
    "SUB_EXP_NAME = 'augmentation'\n",
    "SUB_EXP_ARTIFACTS = os.path.join(ARTIFCAT_PATH, SUB_EXP_NAME)\n",
    "os.makedirs(SUB_EXP_ARTIFACTS, exist_ok=True)"
   ]
  },
  {
   "cell_type": "code",
   "execution_count": null,
   "id": "97185b89-455d-453a-aaa8-0768f7b3cc3d",
   "metadata": {},
   "outputs": [
    {
     "data": {
      "application/json": {
       "ascii": false,
       "bar_format": null,
       "colour": null,
       "elapsed": 0.019469022750854492,
       "initial": 0,
       "n": 0,
       "ncols": null,
       "nrows": null,
       "postfix": null,
       "prefix": "",
       "rate": null,
       "total": 109,
       "unit": "it",
       "unit_divisor": 1000,
       "unit_scale": false
      },
      "application/vnd.jupyter.widget-view+json": {
       "model_id": "7c9e6d00badc4e24819f7897e9a1fed9",
       "version_major": 2,
       "version_minor": 0
      },
      "text/plain": [
       "  0%|          | 0/109 [00:00<?, ?it/s]"
      ]
     },
     "metadata": {},
     "output_type": "display_data"
    },
    {
     "name": "stdout",
     "output_type": "stream",
     "text": [
      "{'rmse': 0.18224165548313243}\n"
     ]
    },
    {
     "data": {
      "application/json": {
       "ascii": false,
       "bar_format": null,
       "colour": null,
       "elapsed": 0.01553964614868164,
       "initial": 0,
       "n": 0,
       "ncols": null,
       "nrows": null,
       "postfix": null,
       "prefix": "",
       "rate": null,
       "total": 109,
       "unit": "it",
       "unit_divisor": 1000,
       "unit_scale": false
      },
      "application/vnd.jupyter.widget-view+json": {
       "model_id": "eea6854373b04e998b74bf37734d4a90",
       "version_major": 2,
       "version_minor": 0
      },
      "text/plain": [
       "  0%|          | 0/109 [00:00<?, ?it/s]"
      ]
     },
     "metadata": {},
     "output_type": "display_data"
    }
   ],
   "source": [
    "model = PawpularityHead(EMB_SIZE, backbone)\n",
    "model = model.to(device)\n",
    "embs_dataset_train = RAMImagesDataset(x_train, y_train, transform=transforms.Compose([\n",
    "        transforms.RandomHorizontalFlip(),\n",
    "        transforms.RandomRotation(30),\n",
    "    ]))\n",
    "embs_dataset_val = RAMImagesDataset(x_val, y_val)\n",
    "\n",
    "loader_train = data.DataLoader(embs_dataset_train, 64)\n",
    "loader_val = data.DataLoader(embs_dataset_val, 64)\n",
    "\n",
    "loss_fn = nn.BCELoss()\n",
    "optimizer = torch.optim.Adam(model.parameters(), lr=1e-3)\n",
    "logs, test_logs = train(\n",
    "    model, \n",
    "    loss_fn, \n",
    "    optimizer, \n",
    "    loader_train, \n",
    "    loader_val, \n",
    "    epochs=20, \n",
    "#     loss_alpha=0.001,\n",
    "    pbar_update_steps=METRIC_COLLECTION_STEPS)"
   ]
  },
  {
   "cell_type": "code",
   "execution_count": null,
   "id": "af7d646a-9bc3-4a52-9290-ede9a3733b33",
   "metadata": {},
   "outputs": [],
   "source": [
    "save_pickle(logs, os.path.join(SUB_EXP_ARTIFACTS, 'train_logs.pkl'))\n",
    "save_pickle(test_logs, os.path.join(SUB_EXP_ARTIFACTS, 'test_logs.pkl'))\n",
    "save_pickle(model.state_dict(), os.path.join(SUB_EXP_ARTIFACTS, 'state_dict.pkl'))"
   ]
  },
  {
   "cell_type": "code",
   "execution_count": 213,
   "id": "bc44e31f-1eb6-479b-9855-b3fed4861b74",
   "metadata": {},
   "outputs": [
    {
     "data": {
      "text/plain": [
       "0.1797"
      ]
     },
     "execution_count": 213,
     "metadata": {},
     "output_type": "execute_result"
    }
   ],
   "source": [
    "round(test_logs[-1]['rmse'], 4)"
   ]
  },
  {
   "cell_type": "code",
   "execution_count": 231,
   "id": "75881acc-e026-4ad0-9774-2f1854deba82",
   "metadata": {},
   "outputs": [],
   "source": [
    "train_logs_df = pd.DataFrame(logs)\n",
    "\n",
    "test_logs_df = pd.DataFrame(test_logs)\n",
    "test_logs_df.index = test_logs_df.index * len(loader_train) + METRIC_COLLECTION_STEPS"
   ]
  },
  {
   "cell_type": "code",
   "execution_count": 233,
   "id": "e69118ec-c32e-453d-ae68-ea68f26708b2",
   "metadata": {},
   "outputs": [
    {
     "data": {
      "text/plain": [
       "<AxesSubplot:xlabel='steps', ylabel='rmse'>"
      ]
     },
     "execution_count": 233,
     "metadata": {},
     "output_type": "execute_result"
    },
    {
     "data": {
      "image/png": "[encoded data removed]",
      "text/plain": [
       "<Figure size 432x288 with 1 Axes>"
      ]
     },
     "metadata": {
      "needs_background": "light"
     },
     "output_type": "display_data"
    }
   ],
   "source": [
    "plt.xlabel('steps')\n",
    "plt.ylabel('rmse')\n",
    "train_logs_df['rmse'].rolling(len(loader_train)).mean().plot()\n",
    "test_logs_df['rmse'].plot()\n",
    "# plt.savefig(os.path.join(SUB_EXP_ARTIFACTS, 'rmse_plot.png'))"
   ]
  },
  {
   "cell_type": "code",
   "execution_count": 214,
   "id": "f56150ff-a9f2-4a61-857d-de99e89913ac",
   "metadata": {},
   "outputs": [
    {
     "data": {
      "text/plain": [
       "0"
      ]
     },
     "execution_count": 214,
     "metadata": {},
     "output_type": "execute_result"
    }
   ],
   "source": [
    "np.sum(np.abs(model.fc.weight.detach().cpu().numpy()[0]) < 1e-5)"
   ]
  },
  {
   "cell_type": "code",
   "execution_count": 215,
   "id": "50da691c-b4d6-49bc-92f2-424bbb539a64",
   "metadata": {},
   "outputs": [
    {
     "data": {
      "text/plain": [
       "(array([  4.,  14.,  81., 241., 395., 316., 170.,  44.,  13.,   2.]),\n",
       " array([-0.09628855, -0.07632322, -0.05635788, -0.03639254, -0.01642721,\n",
       "         0.00353813,  0.02350347,  0.04346881,  0.06343415,  0.08339948,\n",
       "         0.10336482], dtype=float32),\n",
       " <BarContainer object of 10 artists>)"
      ]
     },
     "execution_count": 215,
     "metadata": {},
     "output_type": "execute_result"
    },
    {
     "data": {
      "image/png": "[encoded data removed]",
      "text/plain": [
       "<Figure size 432x288 with 1 Axes>"
      ]
     },
     "metadata": {
      "needs_background": "light"
     },
     "output_type": "display_data"
    }
   ],
   "source": [
    "plt.hist(model.fc.weight.detach().cpu().numpy()[0])"
   ]
  },
  {
   "cell_type": "code",
   "execution_count": 216,
   "id": "3d7fa3eb-58c5-4999-ba6f-873e630e766f",
   "metadata": {},
   "outputs": [
    {
     "data": {
      "text/plain": [
       "'efficientnet/artifacts/augmentation/model.ipynb'"
      ]
     },
     "execution_count": 216,
     "metadata": {},
     "output_type": "execute_result"
    }
   ],
   "source": [
    "shutil.copyfile(NOTEBOOK_NAME, os.path.join(SUB_EXP_ARTIFACTS, 'model.ipynb'))"
   ]
  },
  {
   "cell_type": "code",
   "execution_count": null,
   "id": "f1acb1f2-b966-4077-949d-9256dba65caf",
   "metadata": {},
   "outputs": [],
   "source": []
  }
 ],
 "metadata": {
  "kernelspec": {
   "display_name": "Python 3 (ipykernel)",
   "language": "python",
   "name": "python3"
  },
  "language_info": {
   "codemirror_mode": {
    "name": "ipython",
    "version": 3
   },
   "file_extension": ".py",
   "mimetype": "text/x-python",
   "name": "python",
   "nbconvert_exporter": "python",
   "pygments_lexer": "ipython3",
   "version": "3.8.10"
  }
 },
 "nbformat": 4,
 "nbformat_minor": 5
}
