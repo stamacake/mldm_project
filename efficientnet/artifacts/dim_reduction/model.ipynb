{
 "cells": [
  {
   "cell_type": "code",
   "execution_count": 147,
   "id": "f832259c-d843-400c-bde3-8e0b41df4bd1",
   "metadata": {},
   "outputs": [],
   "source": [
    "NOTEBOOK_NAME = 'model.ipynb'"
   ]
  },
  {
   "cell_type": "code",
   "execution_count": 1,
   "id": "870be893-bbd9-4396-9eb9-1da4177bf894",
   "metadata": {},
   "outputs": [],
   "source": [
    "import os\n",
    "import tqdm\n",
    "import matplotlib.pyplot as plt\n",
    "\n",
    "import numpy as np\n",
    "from sklearn.metrics.pairwise import cosine_similarity\n",
    "\n",
    "import torch\n",
    "from torch import nn\n",
    "import torchvision as tv\n",
    "\n",
    "from torchvision.models import efficientnet, EfficientNet_V2_M_Weights\n",
    "from torchvision import datasets, transforms\n",
    "\n",
    "from utils import save_pickle, load_pickle, ImageSearcher"
   ]
  },
  {
   "cell_type": "code",
   "execution_count": 14,
   "id": "90d9154f-4467-48f4-9fef-ef2be3edec26",
   "metadata": {},
   "outputs": [],
   "source": [
    "EXP_NAME = 'efficientnet'\n",
    "ARTIFCAT_PATH = os.path.join(EXP_NAME, 'artifacts')\n",
    "os.makedirs(ARTIFCAT_PATH, exist_ok=True)"
   ]
  },
  {
   "cell_type": "code",
   "execution_count": 2,
   "id": "0da8ed2e-4362-45f7-af65-0ab699f4e295",
   "metadata": {},
   "outputs": [
    {
     "data": {
      "text/plain": [
       "'cuda:1'"
      ]
     },
     "execution_count": 2,
     "metadata": {},
     "output_type": "execute_result"
    }
   ],
   "source": [
    "device = 'cuda:1' if torch.cuda.is_available() else 'cpu'\n",
    "device"
   ]
  },
  {
   "cell_type": "code",
   "execution_count": 3,
   "id": "b22a2b07-fd88-4e04-8523-ab3506922249",
   "metadata": {},
   "outputs": [],
   "source": [
    "searcher = ImageSearcher('train')"
   ]
  },
  {
   "cell_type": "markdown",
   "id": "85f03535-9166-421b-adf0-f45e51dbf264",
   "metadata": {},
   "source": [
    "## Dataset"
   ]
  },
  {
   "cell_type": "code",
   "execution_count": 4,
   "id": "63210e78-dce8-402a-92e2-78e3e958bcca",
   "metadata": {},
   "outputs": [],
   "source": [
    "class ImageLoader(torch.utils.data.Dataset):\n",
    "    def __init__(self, folder, transform=None):\n",
    "        self.folder = folder\n",
    "        files = os.listdir(self.folder)\n",
    "        self.labels = ['.'.join(e.split('.')[:-1]) for e in files]\n",
    "        self.files = [os.path.join(folder, f) for f in files]\n",
    "        self.transform = transform\n",
    "        \n",
    "    def __len__(self):\n",
    "        return len(self.files)\n",
    "    \n",
    "    def __getitem__(self, idx):\n",
    "        image_path = self.files[idx]\n",
    "        image = tv.io.read_image(image_path)\n",
    "        if self.transform is not None:\n",
    "            image = self.transform(image)\n",
    "        \n",
    "        label = self.labels[idx]\n",
    "        \n",
    "        return (image, label)"
   ]
  },
  {
   "cell_type": "code",
   "execution_count": 21,
   "id": "58fd10b1-d929-42a2-8f2c-aee7ee6c03a7",
   "metadata": {},
   "outputs": [],
   "source": [
    "IMAGE_SIZE = 480\n",
    "\n",
    "\n",
    "ds_train = ImageLoader(\n",
    "    folder='torch_data/train',\n",
    "    transform=transforms.Compose([\n",
    "        transforms.Resize(IMAGE_SIZE),\n",
    "        transforms.CenterCrop(IMAGE_SIZE),\n",
    "        transforms.ConvertImageDtype(torch.float32),\n",
    "    ])\n",
    ")\n",
    "\n",
    "ds_val = ImageLoader(\n",
    "    folder='torch_data/val',\n",
    "    transform=transforms.Compose([\n",
    "        transforms.Resize(IMAGE_SIZE),\n",
    "        transforms.CenterCrop(IMAGE_SIZE),\n",
    "        transforms.ConvertImageDtype(torch.float32),\n",
    "    ])\n",
    ")"
   ]
  },
  {
   "cell_type": "code",
   "execution_count": 30,
   "id": "9d7728f5-96e1-49b3-b792-8d5d1b3b940a",
   "metadata": {},
   "outputs": [],
   "source": [
    "train_loader = torch.utils.data.DataLoader(\n",
    "    ds_train,\n",
    "    64,\n",
    ")\n",
    "\n",
    "val_loader = torch.utils.data.DataLoader(\n",
    "    ds_val,\n",
    "    64,\n",
    ")"
   ]
  },
  {
   "cell_type": "markdown",
   "id": "78aa5e50-103e-46df-90dc-731dfaeeada6",
   "metadata": {},
   "source": [
    "## Model"
   ]
  },
  {
   "cell_type": "code",
   "execution_count": 7,
   "id": "c1daedc5-f3d5-477f-bbd4-938ec05ab9c6",
   "metadata": {},
   "outputs": [
    {
     "name": "stderr",
     "output_type": "stream",
     "text": [
      "/opt/conda/lib/python3.8/site-packages/torchvision/models/_utils.py:135: UserWarning: Using 'weights' as positional parameter(s) is deprecated since 0.13 and may be removed in the future. Please use keyword parameter(s) instead.\n",
      "  warnings.warn(\n"
     ]
    }
   ],
   "source": [
    "model = efficientnet.efficientnet_v2_m(EfficientNet_V2_M_Weights.IMAGENET1K_V1)\n",
    "model.classifier[1] = nn.Identity()"
   ]
  },
  {
   "cell_type": "code",
   "execution_count": 8,
   "id": "7cff9515-7fb1-43ff-a6ef-3c3d6f37b9ec",
   "metadata": {},
   "outputs": [],
   "source": [
    "model = model.to(device)"
   ]
  },
  {
   "cell_type": "markdown",
   "id": "758fe15b-024b-4923-b43d-cdacce827b9d",
   "metadata": {},
   "source": [
    "## Embeddings"
   ]
  },
  {
   "cell_type": "code",
   "execution_count": 23,
   "id": "9c77eb95-0dc5-4773-af28-ce12320aa69b",
   "metadata": {},
   "outputs": [],
   "source": [
    "def collect_preds(module, loader):\n",
    "    x_all = []\n",
    "    y_all = []\n",
    "    for x, y in tqdm.tqdm(loader):\n",
    "        with torch.no_grad():\n",
    "            x = model(x.to(device)).cpu().numpy()\n",
    "            x_all.append(x)\n",
    "            y_all.append(y)\n",
    "            \n",
    "    x_all = np.concatenate(x_all, axis=0)\n",
    "    y_all = np.concatenate(y_all, axis=0)\n",
    "    \n",
    "    return x_all, y_all"
   ]
  },
  {
   "cell_type": "markdown",
   "id": "c61a4008-4c23-40f9-b6b7-5657a4092cae",
   "metadata": {},
   "source": [
    "### computing embeddings"
   ]
  },
  {
   "cell_type": "code",
   "execution_count": 24,
   "id": "6db268d0-8ae3-4804-abe2-ebffa38f2afa",
   "metadata": {},
   "outputs": [
    {
     "name": "stderr",
     "output_type": "stream",
     "text": [
      "100%|██████████| 109/109 [05:19<00:00,  2.93s/it]\n"
     ]
    }
   ],
   "source": [
    "x_train, y_train = collect_preds(model, train_loader)\n",
    "x_val, y_val = collect_preds(model, val_loader)"
   ]
  },
  {
   "cell_type": "code",
   "execution_count": 34,
   "id": "80eea1f0-972d-4246-8ecf-6dc990511f17",
   "metadata": {},
   "outputs": [],
   "source": [
    "save_pickle([x_train, y_train], os.path.join(ARTIFCAT_PATH, 'efficientnet_v2_train.pkl'))\n",
    "save_pickle([x_val, y_val], os.path.join(ARTIFCAT_PATH, 'efficientnet_v2_val.pkl'))"
   ]
  },
  {
   "cell_type": "markdown",
   "id": "08230914-406b-4cef-b328-573b1244017f",
   "metadata": {},
   "source": [
    "# Model"
   ]
  },
  {
   "cell_type": "code",
   "execution_count": 150,
   "id": "c846dbd2-6755-4aec-b4f4-eb57afca2ac6",
   "metadata": {},
   "outputs": [],
   "source": [
    "import pandas as pd\n",
    "from utils import load_pickle\n",
    "from sklearn.metrics import mean_squared_error\n",
    "import numpy as np\n",
    "\n",
    "import torch\n",
    "from torch import nn\n",
    "from torch.nn import functional as F\n",
    "from torch.utils import data\n",
    "\n",
    "from tqdm.notebook import tqdm\n",
    "import shutil"
   ]
  },
  {
   "cell_type": "code",
   "execution_count": 49,
   "id": "cce56a43-f247-46da-92fe-8304dfd04e8a",
   "metadata": {},
   "outputs": [],
   "source": [
    "def prepare_data(x, y, meta_all):\n",
    "    y = meta_all.set_index('Id').loc[y]['Pawpularity'].to_numpy()\n",
    "    y = y / 100\n",
    "    \n",
    "    x = x.astype(np.float32)\n",
    "    y = y.astype(np.float32)\n",
    "\n",
    "    return x, y"
   ]
  },
  {
   "cell_type": "code",
   "execution_count": null,
   "id": "ac5c32f2-4134-4e36-8628-222a229efd09",
   "metadata": {},
   "outputs": [],
   "source": [
    "meta_all = pd.read_csv('train.csv')"
   ]
  },
  {
   "cell_type": "code",
   "execution_count": 399,
   "id": "848696ba-7132-43c4-b16e-a2971cb9e660",
   "metadata": {},
   "outputs": [],
   "source": [
    "x_train, y_train = load_pickle(os.path.join(ARTIFCAT_PATH, 'efficientnet_v2_train.pkl'))\n",
    "x_val, y_val = load_pickle(os.path.join(ARTIFCAT_PATH, 'efficientnet_v2_val.pkl'))\n",
    "\n",
    "x_train, y_train = prepare_data(x_train, y_train, meta_all)\n",
    "x_val, y_val = prepare_data(x_val, y_val, meta_all)"
   ]
  },
  {
   "cell_type": "code",
   "execution_count": 400,
   "id": "a8990f21-50f3-4965-bd8c-4e5830e662e0",
   "metadata": {},
   "outputs": [],
   "source": [
    "EMB_SIZE = x_train.shape[1]"
   ]
  },
  {
   "cell_type": "code",
   "execution_count": 401,
   "id": "307047b4-329c-4f0f-aadd-3d391505afc2",
   "metadata": {},
   "outputs": [],
   "source": [
    "rmse = lambda yh, y: mean_squared_error(y, yh) ** 0.5"
   ]
  },
  {
   "cell_type": "code",
   "execution_count": 402,
   "id": "d3ba57e6-f85e-4a54-8ff6-250cf342e8aa",
   "metadata": {},
   "outputs": [],
   "source": [
    "def l1_reg(module: nn.Module):\n",
    "    flat_weights = torch.cat([e.view(-1) for e in module.parameters()])\n",
    "    flat_weights = torch.abs(flat_weights)\n",
    "    loss = torch.sum(flat_weights)\n",
    "    \n",
    "    return loss"
   ]
  },
  {
   "cell_type": "code",
   "execution_count": 403,
   "id": "f0474b23-f5bc-4905-9743-8faaa07c5a66",
   "metadata": {},
   "outputs": [],
   "source": [
    "class PawpularityEmbeddingsDataset(data.Dataset):\n",
    "    def __init__(self, x, y):\n",
    "        super().__init__()\n",
    "        \n",
    "        self.x = x\n",
    "        self.y = y[:, np.newaxis]\n",
    "    \n",
    "    def __len__(self):\n",
    "        return len(self.y)\n",
    "    \n",
    "    def __getitem__(self, idx):\n",
    "        return self.x[idx], self.y[idx]"
   ]
  },
  {
   "cell_type": "code",
   "execution_count": 458,
   "id": "d8378d28-c8a4-4a32-a833-4b3e05d089b4",
   "metadata": {},
   "outputs": [],
   "source": [
    "class EmbEncoder(nn.Module):\n",
    "    def __init__(self, in_dim, out_dim):\n",
    "        super().__init__()\n",
    "        \n",
    "        l1_dims = in_dim // 2\n",
    "        l2_dims = in_dim // 4\n",
    "        \n",
    "        self.l1 = nn.Linear(in_dim, l1_dims)\n",
    "        self.l1_act = nn.GELU()\n",
    "        self.l2 = nn.Linear(l1_dims, l2_dims)\n",
    "        self.l2_act = nn.GELU()\n",
    "        self.l3 = nn.Linear(l2_dims, out_dim)\n",
    "    \n",
    "    def forward(self, x):\n",
    "        x = self.l1(x)\n",
    "        x = self.l1_act(x)\n",
    "        x = self.l2(x)\n",
    "        x = self.l2_act(x)\n",
    "        x = self.l3(x)\n",
    "        \n",
    "        return x\n",
    "    \n",
    "class EmbDecoder(nn.Module):\n",
    "    def __init__(self, in_dim, out_dim):\n",
    "        super().__init__()\n",
    "        \n",
    "        l1_dims = in_dim * 2\n",
    "        l2_dims = in_dim * 4\n",
    "        \n",
    "        self.l1 = nn.Linear(in_dim, l1_dims)\n",
    "        self.l1_act = nn.GELU()\n",
    "        self.l2 = nn.Linear(l1_dims, l2_dims)\n",
    "        self.l2_act = nn.GELU()\n",
    "        self.l3 = nn.Linear(l2_dims, out_dim)\n",
    "    \n",
    "    def forward(self, x):\n",
    "        x = self.l1(x)\n",
    "        x = self.l1_act(x)\n",
    "        x = self.l2(x)\n",
    "        x = self.l2_act(x)\n",
    "        x = self.l3(x)\n",
    "        \n",
    "        return x"
   ]
  },
  {
   "cell_type": "code",
   "execution_count": 494,
   "id": "8b878384-d827-4a74-854f-0ee2ce1d7cb1",
   "metadata": {},
   "outputs": [],
   "source": [
    "class PawpularityHead(nn.Module):\n",
    "    def __init__(self, in_dim):\n",
    "        super().__init__()\n",
    "        enc_dim = 32\n",
    "        self.enc = EmbEncoder(in_dim, enc_dim)\n",
    "        self.dec = EmbDecoder(enc_dim, in_dim)\n",
    "        self.fc = nn.Linear(enc_dim, 1)\n",
    "        self.fc_act = nn.Sigmoid() # for test simplicity\n",
    "        \n",
    "    def forward(self, x):\n",
    "        x = self.enc(x)\n",
    "        if self.training:\n",
    "            xh = self.dec(x)\n",
    "        x = self.fc(x)\n",
    "        x = self.fc_act(x)\n",
    "        \n",
    "        if self.training:\n",
    "            return x, xh\n",
    "        \n",
    "        return x"
   ]
  },
  {
   "cell_type": "code",
   "execution_count": 495,
   "id": "a817282a-45df-4b27-bc7a-71882e7892e7",
   "metadata": {},
   "outputs": [],
   "source": [
    "def test(module, test_dl, metrics:dict):\n",
    "    module = module.train(False)\n",
    "    \n",
    "    yh = []\n",
    "    yt = []\n",
    "    with torch.no_grad():\n",
    "        for x, y in test_dl:\n",
    "            yhc = module(x).detach().cpu().numpy()\n",
    "            yh.append(yhc)\n",
    "            yt.append(y)\n",
    "            \n",
    "    yh = np.concatenate(yh, axis=0)\n",
    "    y = np.concatenate(yt, axis=0)\n",
    "    \n",
    "    res = {}\n",
    "    for mname, mfunc in metrics.items():\n",
    "        res[mname] = mfunc(yh, y)\n",
    "    \n",
    "    return res"
   ]
  },
  {
   "cell_type": "code",
   "execution_count": 496,
   "id": "766d9dc6-134e-4816-bf6f-5ec2db1b8739",
   "metadata": {},
   "outputs": [],
   "source": [
    "def train(\n",
    "    module: nn.Module, \n",
    "    loss_f, \n",
    "    optimizer: torch.optim.Optimizer, \n",
    "    train_dl: data.DataLoader, \n",
    "    test_dl: data.DataLoader, \n",
    "    epochs: int,\n",
    "    loss_alpha=0.01,\n",
    "    pbar_update_steps: int=100,\n",
    "    ):\n",
    "    \n",
    "    logs = []\n",
    "    test_logs = []\n",
    "    for epoch in range(epochs):\n",
    "        module = module.train(True)\n",
    "        with tqdm(total=len(train_dl)) as pbar:\n",
    "            pbar.set_description(f'epoch {epoch}')\n",
    "            \n",
    "            for step, (x, y) in enumerate(train_dl):\n",
    "                yh, xh = module(x)\n",
    "                loss = loss_f(yh, y)\n",
    "                rec_loss = torch.linalg.norm(x - xh, dim=1).mean()\n",
    "                \n",
    "                loss_full = loss + loss_alpha * rec_loss\n",
    "    \n",
    "                optimizer.zero_grad()\n",
    "                loss_full.backward()\n",
    "                optimizer.step()\n",
    "                \n",
    "                loss = loss.detach().cpu().numpy()\n",
    "                rec_loss = rec_loss.detach().cpu().numpy()\n",
    "                \n",
    "                log = {\n",
    "                    'loss' : float(loss), \n",
    "                    'rec_loss': float(rec_loss),\n",
    "                    'rmse': rmse(yh.detach().cpu().numpy(), y.detach().cpu().numpy()),\n",
    "                }\n",
    "                logs.append(log)\n",
    "                \n",
    "                if step % pbar_update_steps == 0:\n",
    "                    running_loss = {\n",
    "                        key: np.mean([log[key] for log in logs[-pbar_update_steps:]])\n",
    "                        for key in log\n",
    "                    }\n",
    "                    pbar.set_postfix({'loss' : running_loss})\n",
    "\n",
    "                pbar.update()\n",
    "        \n",
    "        test_metrics = test(module, test_dl, {'rmse' : rmse})\n",
    "        test_logs.append(test_metrics)\n",
    "        print(test_metrics)\n",
    "    \n",
    "    return logs, test_logs"
   ]
  },
  {
   "cell_type": "code",
   "execution_count": 514,
   "id": "ba2a9be7-ea6c-4882-81c3-ebb8033e4d3f",
   "metadata": {},
   "outputs": [],
   "source": [
    "def split_by_regularization(module: nn.Module, reg_list:list):\n",
    "    \"\"\"\n",
    "    Returns:\n",
    "        (common_params, reg_params)\n",
    "    \"\"\"\n",
    "    reg_list = set(reg_list)\n",
    "    reg_params = []\n",
    "    common_params = []\n",
    "    \n",
    "    for name, p in model.named_parameters():\n",
    "        if name in reg_list:\n",
    "            reg_params.append(p)\n",
    "        else:\n",
    "            common_params.append(p)\n",
    "    \n",
    "    return common_params, reg_params"
   ]
  },
  {
   "cell_type": "code",
   "execution_count": 497,
   "id": "87076c86-e554-487b-946d-7ee99537cb6e",
   "metadata": {},
   "outputs": [],
   "source": [
    "METRIC_COLLECTION_STEPS = 100\n",
    "SUB_EXP_NAME = 'dim_reduction'\n",
    "SUB_EXP_ARTIFACTS = os.path.join(ARTIFCAT_PATH, SUB_EXP_NAME)\n",
    "os.makedirs(SUB_EXP_ARTIFACTS, exist_ok=True)"
   ]
  },
  {
   "cell_type": "code",
   "execution_count": 518,
   "id": "97185b89-455d-453a-aaa8-0768f7b3cc3d",
   "metadata": {},
   "outputs": [
    {
     "name": "stdout",
     "output_type": "stream",
     "text": [
      "reg_params:  2\n"
     ]
    },
    {
     "data": {
      "application/json": {
       "ascii": false,
       "bar_format": null,
       "colour": null,
       "elapsed": 0.018712282180786133,
       "initial": 0,
       "n": 0,
       "ncols": null,
       "nrows": null,
       "postfix": null,
       "prefix": "",
       "rate": null,
       "total": 109,
       "unit": "it",
       "unit_divisor": 1000,
       "unit_scale": false
      },
      "application/vnd.jupyter.widget-view+json": {
       "model_id": "c71a6bcaf90e451da950bd0e2f425871",
       "version_major": 2,
       "version_minor": 0
      },
      "text/plain": [
       "  0%|          | 0/109 [00:00<?, ?it/s]"
      ]
     },
     "metadata": {},
     "output_type": "display_data"
    },
    {
     "name": "stdout",
     "output_type": "stream",
     "text": [
      "{'rmse': 0.1871546405838325}\n"
     ]
    },
    {
     "data": {
      "application/json": {
       "ascii": false,
       "bar_format": null,
       "colour": null,
       "elapsed": 0.017703533172607422,
       "initial": 0,
       "n": 0,
       "ncols": null,
       "nrows": null,
       "postfix": null,
       "prefix": "",
       "rate": null,
       "total": 109,
       "unit": "it",
       "unit_divisor": 1000,
       "unit_scale": false
      },
      "application/vnd.jupyter.widget-view+json": {
       "model_id": "15b9b312eadd4cbd905df75a4d9af8da",
       "version_major": 2,
       "version_minor": 0
      },
      "text/plain": [
       "  0%|          | 0/109 [00:00<?, ?it/s]"
      ]
     },
     "metadata": {},
     "output_type": "display_data"
    },
    {
     "name": "stdout",
     "output_type": "stream",
     "text": [
      "{'rmse': 0.1853385458456638}\n"
     ]
    },
    {
     "data": {
      "application/json": {
       "ascii": false,
       "bar_format": null,
       "colour": null,
       "elapsed": 0.018190622329711914,
       "initial": 0,
       "n": 0,
       "ncols": null,
       "nrows": null,
       "postfix": null,
       "prefix": "",
       "rate": null,
       "total": 109,
       "unit": "it",
       "unit_divisor": 1000,
       "unit_scale": false
      },
      "application/vnd.jupyter.widget-view+json": {
       "model_id": "70d2e88860e6456ea313b0e522d4c704",
       "version_major": 2,
       "version_minor": 0
      },
      "text/plain": [
       "  0%|          | 0/109 [00:00<?, ?it/s]"
      ]
     },
     "metadata": {},
     "output_type": "display_data"
    },
    {
     "name": "stdout",
     "output_type": "stream",
     "text": [
      "{'rmse': 0.1883848688695774}\n"
     ]
    },
    {
     "data": {
      "application/json": {
       "ascii": false,
       "bar_format": null,
       "colour": null,
       "elapsed": 0.017533302307128906,
       "initial": 0,
       "n": 0,
       "ncols": null,
       "nrows": null,
       "postfix": null,
       "prefix": "",
       "rate": null,
       "total": 109,
       "unit": "it",
       "unit_divisor": 1000,
       "unit_scale": false
      },
      "application/vnd.jupyter.widget-view+json": {
       "model_id": "d5bcac1b29fc4314b8a2f958657df6f0",
       "version_major": 2,
       "version_minor": 0
      },
      "text/plain": [
       "  0%|          | 0/109 [00:00<?, ?it/s]"
      ]
     },
     "metadata": {},
     "output_type": "display_data"
    },
    {
     "name": "stdout",
     "output_type": "stream",
     "text": [
      "{'rmse': 0.19561218158784496}\n"
     ]
    },
    {
     "data": {
      "application/json": {
       "ascii": false,
       "bar_format": null,
       "colour": null,
       "elapsed": 0.018132686614990234,
       "initial": 0,
       "n": 0,
       "ncols": null,
       "nrows": null,
       "postfix": null,
       "prefix": "",
       "rate": null,
       "total": 109,
       "unit": "it",
       "unit_divisor": 1000,
       "unit_scale": false
      },
      "application/vnd.jupyter.widget-view+json": {
       "model_id": "bb343e57c57848259cc913fa9b8b6e4a",
       "version_major": 2,
       "version_minor": 0
      },
      "text/plain": [
       "  0%|          | 0/109 [00:00<?, ?it/s]"
      ]
     },
     "metadata": {},
     "output_type": "display_data"
    },
    {
     "name": "stdout",
     "output_type": "stream",
     "text": [
      "{'rmse': 0.20671995619625957}\n"
     ]
    },
    {
     "data": {
      "application/json": {
       "ascii": false,
       "bar_format": null,
       "colour": null,
       "elapsed": 0.01856064796447754,
       "initial": 0,
       "n": 0,
       "ncols": null,
       "nrows": null,
       "postfix": null,
       "prefix": "",
       "rate": null,
       "total": 109,
       "unit": "it",
       "unit_divisor": 1000,
       "unit_scale": false
      },
      "application/vnd.jupyter.widget-view+json": {
       "model_id": "36a8e69f98ab4f56944f47f317816439",
       "version_major": 2,
       "version_minor": 0
      },
      "text/plain": [
       "  0%|          | 0/109 [00:00<?, ?it/s]"
      ]
     },
     "metadata": {},
     "output_type": "display_data"
    },
    {
     "name": "stdout",
     "output_type": "stream",
     "text": [
      "{'rmse': 0.21123101864415592}\n"
     ]
    },
    {
     "data": {
      "application/json": {
       "ascii": false,
       "bar_format": null,
       "colour": null,
       "elapsed": 0.020754575729370117,
       "initial": 0,
       "n": 0,
       "ncols": null,
       "nrows": null,
       "postfix": null,
       "prefix": "",
       "rate": null,
       "total": 109,
       "unit": "it",
       "unit_divisor": 1000,
       "unit_scale": false
      },
      "application/vnd.jupyter.widget-view+json": {
       "model_id": "7846de76a9d04c51a20ad1caec7762aa",
       "version_major": 2,
       "version_minor": 0
      },
      "text/plain": [
       "  0%|          | 0/109 [00:00<?, ?it/s]"
      ]
     },
     "metadata": {},
     "output_type": "display_data"
    },
    {
     "name": "stdout",
     "output_type": "stream",
     "text": [
      "{'rmse': 0.22705916522554287}\n"
     ]
    },
    {
     "data": {
      "application/json": {
       "ascii": false,
       "bar_format": null,
       "colour": null,
       "elapsed": 0.01910996437072754,
       "initial": 0,
       "n": 0,
       "ncols": null,
       "nrows": null,
       "postfix": null,
       "prefix": "",
       "rate": null,
       "total": 109,
       "unit": "it",
       "unit_divisor": 1000,
       "unit_scale": false
      },
      "application/vnd.jupyter.widget-view+json": {
       "model_id": "7358417c7f1a4208b679913fe5f57ca9",
       "version_major": 2,
       "version_minor": 0
      },
      "text/plain": [
       "  0%|          | 0/109 [00:00<?, ?it/s]"
      ]
     },
     "metadata": {},
     "output_type": "display_data"
    },
    {
     "name": "stdout",
     "output_type": "stream",
     "text": [
      "{'rmse': 0.21488217963794853}\n"
     ]
    },
    {
     "data": {
      "application/json": {
       "ascii": false,
       "bar_format": null,
       "colour": null,
       "elapsed": 0.01805257797241211,
       "initial": 0,
       "n": 0,
       "ncols": null,
       "nrows": null,
       "postfix": null,
       "prefix": "",
       "rate": null,
       "total": 109,
       "unit": "it",
       "unit_divisor": 1000,
       "unit_scale": false
      },
      "application/vnd.jupyter.widget-view+json": {
       "model_id": "dee888fefe514ef6b4e7e566ee71ba88",
       "version_major": 2,
       "version_minor": 0
      },
      "text/plain": [
       "  0%|          | 0/109 [00:00<?, ?it/s]"
      ]
     },
     "metadata": {},
     "output_type": "display_data"
    },
    {
     "name": "stdout",
     "output_type": "stream",
     "text": [
      "{'rmse': 0.20396837881097438}\n"
     ]
    },
    {
     "data": {
      "application/json": {
       "ascii": false,
       "bar_format": null,
       "colour": null,
       "elapsed": 0.019576311111450195,
       "initial": 0,
       "n": 0,
       "ncols": null,
       "nrows": null,
       "postfix": null,
       "prefix": "",
       "rate": null,
       "total": 109,
       "unit": "it",
       "unit_divisor": 1000,
       "unit_scale": false
      },
      "application/vnd.jupyter.widget-view+json": {
       "model_id": "6de7436ebd4045afbd936fbebe631149",
       "version_major": 2,
       "version_minor": 0
      },
      "text/plain": [
       "  0%|          | 0/109 [00:00<?, ?it/s]"
      ]
     },
     "metadata": {},
     "output_type": "display_data"
    },
    {
     "name": "stdout",
     "output_type": "stream",
     "text": [
      "{'rmse': 0.20874162640023788}\n"
     ]
    }
   ],
   "source": [
    "model = PawpularityHead(EMB_SIZE)\n",
    "embs_dataset_train = PawpularityEmbeddingsDataset(x_train, y_train)\n",
    "embs_dataset_val = PawpularityEmbeddingsDataset(x_val, y_val)\n",
    "\n",
    "loader_train = data.DataLoader(embs_dataset_train, 64)\n",
    "loader_val = data.DataLoader(embs_dataset_val, 64)\n",
    "\n",
    "loss_fn = nn.BCELoss()\n",
    "clean_params, reg_params = split_by_regularization(model, ['fc.weight', 'enc.l3.weight'])\n",
    "print('reg_params: ', len(reg_params))\n",
    "optimizer = torch.optim.Adam([\n",
    "        {'params' : clean_params},\n",
    "        {'params' : reg_params, 'weight_decay' : 0.01},\n",
    "    ],\n",
    "    lr=1e-3)\n",
    "logs, test_logs = train(\n",
    "    model, \n",
    "    loss_fn, \n",
    "    optimizer, \n",
    "    loader_train, \n",
    "    loader_val, \n",
    "    epochs=10, \n",
    "    loss_alpha=1,\n",
    "    pbar_update_steps=METRIC_COLLECTION_STEPS)"
   ]
  },
  {
   "cell_type": "code",
   "execution_count": null,
   "id": "af7d646a-9bc3-4a52-9290-ede9a3733b33",
   "metadata": {},
   "outputs": [],
   "source": [
    "save_pickle(logs, os.path.join(SUB_EXP_ARTIFACTS, 'train_logs.pkl'))\n",
    "save_pickle(test_logs, os.path.join(SUB_EXP_ARTIFACTS, 'test_logs.pkl'))\n",
    "save_pickle(model.state_dict(), os.path.join(SUB_EXP_ARTIFACTS, 'state_dict.pkl'))"
   ]
  },
  {
   "cell_type": "code",
   "execution_count": null,
   "id": "bc44e31f-1eb6-479b-9855-b3fed4861b74",
   "metadata": {},
   "outputs": [],
   "source": [
    "round(test_logs[-1]['rmse'], 4)"
   ]
  },
  {
   "cell_type": "code",
   "execution_count": 444,
   "id": "75881acc-e026-4ad0-9774-2f1854deba82",
   "metadata": {},
   "outputs": [],
   "source": [
    "train_logs_df = pd.DataFrame(logs)\n",
    "\n",
    "test_logs_df = pd.DataFrame(test_logs)\n",
    "test_logs_df.index = test_logs_df.index * METRIC_COLLECTION_STEPS + METRIC_COLLECTION_STEPS"
   ]
  },
  {
   "cell_type": "code",
   "execution_count": 445,
   "id": "e69118ec-c32e-453d-ae68-ea68f26708b2",
   "metadata": {},
   "outputs": [
    {
     "data": {
      "image/png": "[encoded data removed]",
      "text/plain": [
       "<Figure size 432x288 with 1 Axes>"
      ]
     },
     "metadata": {
      "needs_background": "light"
     },
     "output_type": "display_data"
    }
   ],
   "source": [
    "plt.xlabel('steps')\n",
    "plt.ylabel('rmse')\n",
    "train_logs_df['rmse'].rolling(METRIC_COLLECTION_STEPS).mean().plot()\n",
    "test_logs_df['rmse'].plot()\n",
    "plt.savefig(os.path.join(SUB_EXP_ARTIFACTS, 'rmse_plot.png'))"
   ]
  },
  {
   "cell_type": "code",
   "execution_count": 446,
   "id": "f56150ff-a9f2-4a61-857d-de99e89913ac",
   "metadata": {},
   "outputs": [
    {
     "data": {
      "text/plain": [
       "25"
      ]
     },
     "execution_count": 446,
     "metadata": {},
     "output_type": "execute_result"
    }
   ],
   "source": [
    "np.sum(np.abs(model.fc.weight.detach().cpu().numpy()[0]) < 1e-5)"
   ]
  },
  {
   "cell_type": "code",
   "execution_count": 447,
   "id": "50da691c-b4d6-49bc-92f2-424bbb539a64",
   "metadata": {},
   "outputs": [
    {
     "data": {
      "text/plain": [
       "(array([14., 13.,  5., 10.,  9., 35.,  3.,  9., 12., 18.]),\n",
       " array([-0.10420716, -0.08344065, -0.06267415, -0.04190765, -0.02114114,\n",
       "        -0.00037464,  0.02039187,  0.04115837,  0.06192487,  0.08269138,\n",
       "         0.10345788], dtype=float32),\n",
       " <BarContainer object of 10 artists>)"
      ]
     },
     "execution_count": 447,
     "metadata": {},
     "output_type": "execute_result"
    },
    {
     "data": {
      "image/png": "[encoded data removed]",
      "text/plain": [
       "<Figure size 432x288 with 1 Axes>"
      ]
     },
     "metadata": {
      "needs_background": "light"
     },
     "output_type": "display_data"
    }
   ],
   "source": [
    "plt.hist(model.fc.weight.detach().cpu().numpy()[0])"
   ]
  },
  {
   "cell_type": "code",
   "execution_count": 398,
   "id": "3d7fa3eb-58c5-4999-ba6f-873e630e766f",
   "metadata": {},
   "outputs": [
    {
     "data": {
      "text/plain": [
       "'efficientnet/artifacts/dim_reduction_pca/model.ipynb'"
      ]
     },
     "execution_count": 398,
     "metadata": {},
     "output_type": "execute_result"
    }
   ],
   "source": [
    "shutil.copyfile(NOTEBOOK_NAME, os.path.join(SUB_EXP_ARTIFACTS, 'model.ipynb'))"
   ]
  },
  {
   "cell_type": "code",
   "execution_count": null,
   "id": "f1acb1f2-b966-4077-949d-9256dba65caf",
   "metadata": {},
   "outputs": [],
   "source": []
  }
 ],
 "metadata": {
  "kernelspec": {
   "display_name": "Python 3 (ipykernel)",
   "language": "python",
   "name": "python3"
  },
  "language_info": {
   "codemirror_mode": {
    "name": "ipython",
    "version": 3
   },
   "file_extension": ".py",
   "mimetype": "text/x-python",
   "name": "python",
   "nbconvert_exporter": "python",
   "pygments_lexer": "ipython3",
   "version": "3.8.10"
  }
 },
 "nbformat": 4,
 "nbformat_minor": 5
}
