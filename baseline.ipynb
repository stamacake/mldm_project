{
 "cells": [
  {
   "cell_type": "code",
   "execution_count": 12,
   "id": "08de49ad-90cd-4a0e-99f6-d0090adeaa2f",
   "metadata": {},
   "outputs": [],
   "source": [
    "import pandas as pd\n",
    "import numpy as np\n",
    "import matplotlib.pyplot as plt\n",
    "\n",
    "from sklearn.model_selection import cross_val_score, RandomizedSearchCV\n",
    "from sklearn.linear_model import Ridge\n",
    "from sklearn.tree import DecisionTreeRegressor\n",
    "from sklearn.metrics import mean_squared_error, make_scorer"
   ]
  },
  {
   "cell_type": "code",
   "execution_count": 13,
   "id": "f99ce084-c607-4bac-a0cc-ba73b5e9e004",
   "metadata": {},
   "outputs": [],
   "source": [
    "rmse = lambda y, yh: mean_squared_error(y, yh) ** 0.5"
   ]
  },
  {
   "cell_type": "code",
   "execution_count": 14,
   "id": "06db354f-93e9-4075-a9ca-cd2952f8c829",
   "metadata": {},
   "outputs": [],
   "source": [
    "train = pd.read_csv('train.csv')"
   ]
  },
  {
   "cell_type": "code",
   "execution_count": 14,
   "id": "7f925eb4-d761-4e4d-b08f-c637518c7d85",
   "metadata": {},
   "outputs": [],
   "source": [
    "x, y = train.drop(['Pawpularity', 'Id'], axis=1), train['Pawpularity']"
   ]
  },
  {
   "cell_type": "code",
   "execution_count": 55,
   "id": "11eadf74-5aae-4772-9d20-95b1363b9b0f",
   "metadata": {},
   "outputs": [
    {
     "name": "stderr",
     "output_type": "stream",
     "text": [
      "/opt/conda/lib/python3.8/site-packages/sklearn/model_selection/_search.py:306: UserWarning: The total space of parameters 5 is smaller than n_iter=10. Running 5 iterations. For exhaustive searches, use GridSearchCV.\n",
      "  warnings.warn(\n"
     ]
    },
    {
     "data": {
      "text/html": [
       "<div>\n",
       "<style scoped>\n",
       "    .dataframe tbody tr th:only-of-type {\n",
       "        vertical-align: middle;\n",
       "    }\n",
       "\n",
       "    .dataframe tbody tr th {\n",
       "        vertical-align: top;\n",
       "    }\n",
       "\n",
       "    .dataframe thead th {\n",
       "        text-align: right;\n",
       "    }\n",
       "</style>\n",
       "<table border=\"1\" class=\"dataframe\">\n",
       "  <thead>\n",
       "    <tr style=\"text-align: right;\">\n",
       "      <th></th>\n",
       "      <th>mean_fit_time</th>\n",
       "      <th>std_fit_time</th>\n",
       "      <th>mean_score_time</th>\n",
       "      <th>std_score_time</th>\n",
       "      <th>param_alpha</th>\n",
       "      <th>params</th>\n",
       "      <th>split0_test_score</th>\n",
       "      <th>split1_test_score</th>\n",
       "      <th>split2_test_score</th>\n",
       "      <th>split3_test_score</th>\n",
       "      <th>split4_test_score</th>\n",
       "      <th>mean_test_score</th>\n",
       "      <th>std_test_score</th>\n",
       "      <th>rank_test_score</th>\n",
       "    </tr>\n",
       "  </thead>\n",
       "  <tbody>\n",
       "    <tr>\n",
       "      <th>4</th>\n",
       "      <td>0.055376</td>\n",
       "      <td>0.040969</td>\n",
       "      <td>0.002275</td>\n",
       "      <td>0.000084</td>\n",
       "      <td>100.0</td>\n",
       "      <td>{'alpha': 100.0}</td>\n",
       "      <td>-20.706991</td>\n",
       "      <td>-20.832444</td>\n",
       "      <td>-20.892585</td>\n",
       "      <td>-20.116125</td>\n",
       "      <td>-20.410057</td>\n",
       "      <td>-20.591640</td>\n",
       "      <td>0.290154</td>\n",
       "      <td>1</td>\n",
       "    </tr>\n",
       "    <tr>\n",
       "      <th>3</th>\n",
       "      <td>0.036969</td>\n",
       "      <td>0.038921</td>\n",
       "      <td>0.002110</td>\n",
       "      <td>0.000270</td>\n",
       "      <td>5.623413</td>\n",
       "      <td>{'alpha': 5.623413251903491}</td>\n",
       "      <td>-20.711873</td>\n",
       "      <td>-20.841458</td>\n",
       "      <td>-20.882045</td>\n",
       "      <td>-20.124791</td>\n",
       "      <td>-20.424493</td>\n",
       "      <td>-20.596932</td>\n",
       "      <td>0.285288</td>\n",
       "      <td>2</td>\n",
       "    </tr>\n",
       "    <tr>\n",
       "      <th>2</th>\n",
       "      <td>0.037637</td>\n",
       "      <td>0.040377</td>\n",
       "      <td>0.004185</td>\n",
       "      <td>0.004209</td>\n",
       "      <td>0.316228</td>\n",
       "      <td>{'alpha': 0.31622776601683794}</td>\n",
       "      <td>-20.712395</td>\n",
       "      <td>-20.842336</td>\n",
       "      <td>-20.881217</td>\n",
       "      <td>-20.125766</td>\n",
       "      <td>-20.425929</td>\n",
       "      <td>-20.597529</td>\n",
       "      <td>0.284819</td>\n",
       "      <td>3</td>\n",
       "    </tr>\n",
       "  </tbody>\n",
       "</table>\n",
       "</div>"
      ],
      "text/plain": [
       "   mean_fit_time  std_fit_time  mean_score_time  std_score_time param_alpha  \\\n",
       "4       0.055376      0.040969         0.002275        0.000084       100.0   \n",
       "3       0.036969      0.038921         0.002110        0.000270    5.623413   \n",
       "2       0.037637      0.040377         0.004185        0.004209    0.316228   \n",
       "\n",
       "                           params  split0_test_score  split1_test_score  \\\n",
       "4                {'alpha': 100.0}         -20.706991         -20.832444   \n",
       "3    {'alpha': 5.623413251903491}         -20.711873         -20.841458   \n",
       "2  {'alpha': 0.31622776601683794}         -20.712395         -20.842336   \n",
       "\n",
       "   split2_test_score  split3_test_score  split4_test_score  mean_test_score  \\\n",
       "4         -20.892585         -20.116125         -20.410057       -20.591640   \n",
       "3         -20.882045         -20.124791         -20.424493       -20.596932   \n",
       "2         -20.881217         -20.125766         -20.425929       -20.597529   \n",
       "\n",
       "   std_test_score  rank_test_score  \n",
       "4        0.290154                1  \n",
       "3        0.285288                2  \n",
       "2        0.284819                3  "
      ]
     },
     "execution_count": 55,
     "metadata": {},
     "output_type": "execute_result"
    }
   ],
   "source": [
    "searcher = RandomizedSearchCV(\n",
    "    Ridge(),\n",
    "    param_distributions={\n",
    "        'alpha' : np.logspace(-3, 2, 5),\n",
    "    },\n",
    "    scoring=make_scorer(rmse, greater_is_better=False),\n",
    ")\n",
    "searcher.fit(x, y)\n",
    "pd.DataFrame(searcher.cv_results_).sort_values('mean_test_score', ascending=False).head(3)"
   ]
  },
  {
   "cell_type": "code",
   "execution_count": 56,
   "id": "35f98e62-ccb0-4f39-b130-a7195ac81f8c",
   "metadata": {},
   "outputs": [
    {
     "data": {
      "text/plain": [
       "<BarContainer object of 12 artists>"
      ]
     },
     "execution_count": 56,
     "metadata": {},
     "output_type": "execute_result"
    },
    {
     "data": {
      "image/png": "[encoded data removed]",
      "text/plain": [
       "<Figure size 432x288 with 1 Axes>"
      ]
     },
     "metadata": {
      "needs_background": "light"
     },
     "output_type": "display_data"
    }
   ],
   "source": [
    "plt.barh(x.columns, searcher.best_estimator_.coef_)"
   ]
  },
  {
   "cell_type": "code",
   "execution_count": 58,
   "id": "236908f8-a039-4e34-8f4a-2ba3ec44acb6",
   "metadata": {},
   "outputs": [
    {
     "data": {
      "text/html": [
       "<div>\n",
       "<style scoped>\n",
       "    .dataframe tbody tr th:only-of-type {\n",
       "        vertical-align: middle;\n",
       "    }\n",
       "\n",
       "    .dataframe tbody tr th {\n",
       "        vertical-align: top;\n",
       "    }\n",
       "\n",
       "    .dataframe thead th {\n",
       "        text-align: right;\n",
       "    }\n",
       "</style>\n",
       "<table border=\"1\" class=\"dataframe\">\n",
       "  <thead>\n",
       "    <tr style=\"text-align: right;\">\n",
       "      <th></th>\n",
       "      <th>mean_fit_time</th>\n",
       "      <th>std_fit_time</th>\n",
       "      <th>mean_score_time</th>\n",
       "      <th>std_score_time</th>\n",
       "      <th>param_min_samples_leaf</th>\n",
       "      <th>param_max_depth</th>\n",
       "      <th>params</th>\n",
       "      <th>split0_test_score</th>\n",
       "      <th>split1_test_score</th>\n",
       "      <th>split2_test_score</th>\n",
       "      <th>split3_test_score</th>\n",
       "      <th>split4_test_score</th>\n",
       "      <th>mean_test_score</th>\n",
       "      <th>std_test_score</th>\n",
       "      <th>rank_test_score</th>\n",
       "    </tr>\n",
       "  </thead>\n",
       "  <tbody>\n",
       "    <tr>\n",
       "      <th>7</th>\n",
       "      <td>0.003039</td>\n",
       "      <td>0.000011</td>\n",
       "      <td>0.001082</td>\n",
       "      <td>0.000007</td>\n",
       "      <td>20</td>\n",
       "      <td>4</td>\n",
       "      <td>{'min_samples_leaf': 20, 'max_depth': 4}</td>\n",
       "      <td>-20.724102</td>\n",
       "      <td>-20.845043</td>\n",
       "      <td>-20.881135</td>\n",
       "      <td>-20.116175</td>\n",
       "      <td>-20.385732</td>\n",
       "      <td>-20.590437</td>\n",
       "      <td>0.294627</td>\n",
       "      <td>1</td>\n",
       "    </tr>\n",
       "    <tr>\n",
       "      <th>9</th>\n",
       "      <td>0.002781</td>\n",
       "      <td>0.000020</td>\n",
       "      <td>0.001076</td>\n",
       "      <td>0.000007</td>\n",
       "      <td>20</td>\n",
       "      <td>3</td>\n",
       "      <td>{'min_samples_leaf': 20, 'max_depth': 3}</td>\n",
       "      <td>-20.713134</td>\n",
       "      <td>-20.830522</td>\n",
       "      <td>-20.922633</td>\n",
       "      <td>-20.123433</td>\n",
       "      <td>-20.364528</td>\n",
       "      <td>-20.590850</td>\n",
       "      <td>0.300725</td>\n",
       "      <td>2</td>\n",
       "    </tr>\n",
       "    <tr>\n",
       "      <th>0</th>\n",
       "      <td>0.003312</td>\n",
       "      <td>0.000403</td>\n",
       "      <td>0.001392</td>\n",
       "      <td>0.000059</td>\n",
       "      <td>20</td>\n",
       "      <td>2</td>\n",
       "      <td>{'min_samples_leaf': 20, 'max_depth': 2}</td>\n",
       "      <td>-20.719079</td>\n",
       "      <td>-20.820220</td>\n",
       "      <td>-20.904759</td>\n",
       "      <td>-20.122009</td>\n",
       "      <td>-20.396656</td>\n",
       "      <td>-20.592545</td>\n",
       "      <td>0.291582</td>\n",
       "      <td>3</td>\n",
       "    </tr>\n",
       "  </tbody>\n",
       "</table>\n",
       "</div>"
      ],
      "text/plain": [
       "   mean_fit_time  std_fit_time  mean_score_time  std_score_time  \\\n",
       "7       0.003039      0.000011         0.001082        0.000007   \n",
       "9       0.002781      0.000020         0.001076        0.000007   \n",
       "0       0.003312      0.000403         0.001392        0.000059   \n",
       "\n",
       "  param_min_samples_leaf param_max_depth  \\\n",
       "7                     20               4   \n",
       "9                     20               3   \n",
       "0                     20               2   \n",
       "\n",
       "                                     params  split0_test_score  \\\n",
       "7  {'min_samples_leaf': 20, 'max_depth': 4}         -20.724102   \n",
       "9  {'min_samples_leaf': 20, 'max_depth': 3}         -20.713134   \n",
       "0  {'min_samples_leaf': 20, 'max_depth': 2}         -20.719079   \n",
       "\n",
       "   split1_test_score  split2_test_score  split3_test_score  split4_test_score  \\\n",
       "7         -20.845043         -20.881135         -20.116175         -20.385732   \n",
       "9         -20.830522         -20.922633         -20.123433         -20.364528   \n",
       "0         -20.820220         -20.904759         -20.122009         -20.396656   \n",
       "\n",
       "   mean_test_score  std_test_score  rank_test_score  \n",
       "7       -20.590437        0.294627                1  \n",
       "9       -20.590850        0.300725                2  \n",
       "0       -20.592545        0.291582                3  "
      ]
     },
     "execution_count": 58,
     "metadata": {},
     "output_type": "execute_result"
    }
   ],
   "source": [
    "searcher = RandomizedSearchCV(\n",
    "    DecisionTreeRegressor(),\n",
    "    param_distributions={\n",
    "        'max_depth' : [2, 3, 4, 5, 7],\n",
    "        'min_samples_leaf' : [1, 5, 10, 20],\n",
    "    },\n",
    "    scoring=make_scorer(rmse, greater_is_better=False),\n",
    ")\n",
    "searcher.fit(x, y)\n",
    "pd.DataFrame(searcher.cv_results_).sort_values('mean_test_score', ascending=False).head(3)"
   ]
  },
  {
   "cell_type": "code",
   "execution_count": 59,
   "id": "ba72d7a9-ea84-4ac7-bb66-348dd8617655",
   "metadata": {},
   "outputs": [
    {
     "data": {
      "text/plain": [
       "<BarContainer object of 12 artists>"
      ]
     },
     "execution_count": 59,
     "metadata": {},
     "output_type": "execute_result"
    },
    {
     "data": {
      "image/png": "[encoded data removed]",
      "text/plain": [
       "<Figure size 432x288 with 1 Axes>"
      ]
     },
     "metadata": {
      "needs_background": "light"
     },
     "output_type": "display_data"
    }
   ],
   "source": [
    "plt.barh(x.columns, searcher.best_estimator_.feature_importances_)"
   ]
  },
  {
   "cell_type": "code",
   "execution_count": 63,
   "id": "dec42c95-a323-401b-99ad-fadff46e675a",
   "metadata": {},
   "outputs": [],
   "source": [
    "import shap"
   ]
  },
  {
   "cell_type": "code",
   "execution_count": 1,
   "id": "ad4ca49f-6553-4852-a3f0-06ebde4d9782",
   "metadata": {},
   "outputs": [],
   "source": [
    "# explainer = shap.Explainer(model)"
   ]
  },
  {
   "cell_type": "code",
   "execution_count": null,
   "id": "08756f71-470a-47bf-9e17-220227fa54dd",
   "metadata": {},
   "outputs": [],
   "source": []
  },
  {
   "cell_type": "markdown",
   "id": "21b8a870-6e0d-4586-a12c-c431a633d2cc",
   "metadata": {},
   "source": [
    "## Embedding model"
   ]
  },
  {
   "cell_type": "code",
   "execution_count": 7,
   "id": "a971c32e-5565-4582-9b90-d2ee82beee51",
   "metadata": {},
   "outputs": [],
   "source": [
    "from utils import load_pickle\n",
    "import numpy as np"
   ]
  },
  {
   "cell_type": "code",
   "execution_count": 4,
   "id": "ef657767-7baa-4470-8857-a969cc5d4a89",
   "metadata": {},
   "outputs": [],
   "source": [
    "embs, ids = load_pickle('artifacts/embs/efficientnet_v2_m__embs.pkl')\n",
    "ids = np.array(ids)"
   ]
  },
  {
   "cell_type": "code",
   "execution_count": 21,
   "id": "7bfeab33-6251-4ad8-8765-598e435f20a2",
   "metadata": {},
   "outputs": [],
   "source": [
    "x = embs\n",
    "y = train.set_index('Id').loc[ids]['Pawpularity'].to_numpy()"
   ]
  },
  {
   "cell_type": "code",
   "execution_count": 22,
   "id": "b7cc8ed2-6f0d-42b2-84e0-419db34f52c4",
   "metadata": {},
   "outputs": [
    {
     "name": "stderr",
     "output_type": "stream",
     "text": [
      "/opt/conda/lib/python3.8/site-packages/sklearn/model_selection/_search.py:306: UserWarning: The total space of parameters 5 is smaller than n_iter=10. Running 5 iterations. For exhaustive searches, use GridSearchCV.\n",
      "  warnings.warn(\n"
     ]
    },
    {
     "data": {
      "text/html": [
       "<div>\n",
       "<style scoped>\n",
       "    .dataframe tbody tr th:only-of-type {\n",
       "        vertical-align: middle;\n",
       "    }\n",
       "\n",
       "    .dataframe tbody tr th {\n",
       "        vertical-align: top;\n",
       "    }\n",
       "\n",
       "    .dataframe thead th {\n",
       "        text-align: right;\n",
       "    }\n",
       "</style>\n",
       "<table border=\"1\" class=\"dataframe\">\n",
       "  <thead>\n",
       "    <tr style=\"text-align: right;\">\n",
       "      <th></th>\n",
       "      <th>mean_fit_time</th>\n",
       "      <th>std_fit_time</th>\n",
       "      <th>mean_score_time</th>\n",
       "      <th>std_score_time</th>\n",
       "      <th>param_alpha</th>\n",
       "      <th>params</th>\n",
       "      <th>split0_test_score</th>\n",
       "      <th>split1_test_score</th>\n",
       "      <th>split2_test_score</th>\n",
       "      <th>split3_test_score</th>\n",
       "      <th>split4_test_score</th>\n",
       "      <th>mean_test_score</th>\n",
       "      <th>std_test_score</th>\n",
       "      <th>rank_test_score</th>\n",
       "    </tr>\n",
       "  </thead>\n",
       "  <tbody>\n",
       "    <tr>\n",
       "      <th>4</th>\n",
       "      <td>0.498241</td>\n",
       "      <td>0.054546</td>\n",
       "      <td>0.020635</td>\n",
       "      <td>0.029615</td>\n",
       "      <td>100.0</td>\n",
       "      <td>{'alpha': 100.0}</td>\n",
       "      <td>-19.565354</td>\n",
       "      <td>-19.212116</td>\n",
       "      <td>-19.381084</td>\n",
       "      <td>-19.634901</td>\n",
       "      <td>-19.192691</td>\n",
       "      <td>-19.397229</td>\n",
       "      <td>0.179509</td>\n",
       "      <td>1</td>\n",
       "    </tr>\n",
       "    <tr>\n",
       "      <th>3</th>\n",
       "      <td>0.483854</td>\n",
       "      <td>0.090662</td>\n",
       "      <td>0.072396</td>\n",
       "      <td>0.030676</td>\n",
       "      <td>5.623413</td>\n",
       "      <td>{'alpha': 5.623413251903491}</td>\n",
       "      <td>-20.260892</td>\n",
       "      <td>-19.843242</td>\n",
       "      <td>-20.040607</td>\n",
       "      <td>-20.262112</td>\n",
       "      <td>-19.737864</td>\n",
       "      <td>-20.028943</td>\n",
       "      <td>0.213315</td>\n",
       "      <td>2</td>\n",
       "    </tr>\n",
       "    <tr>\n",
       "      <th>2</th>\n",
       "      <td>0.426377</td>\n",
       "      <td>0.065902</td>\n",
       "      <td>0.070769</td>\n",
       "      <td>0.030507</td>\n",
       "      <td>0.316228</td>\n",
       "      <td>{'alpha': 0.31622776601683794}</td>\n",
       "      <td>-20.329747</td>\n",
       "      <td>-19.909536</td>\n",
       "      <td>-20.108016</td>\n",
       "      <td>-20.323408</td>\n",
       "      <td>-19.792759</td>\n",
       "      <td>-20.092693</td>\n",
       "      <td>0.215947</td>\n",
       "      <td>3</td>\n",
       "    </tr>\n",
       "  </tbody>\n",
       "</table>\n",
       "</div>"
      ],
      "text/plain": [
       "   mean_fit_time  std_fit_time  mean_score_time  std_score_time param_alpha  \\\n",
       "4       0.498241      0.054546         0.020635        0.029615       100.0   \n",
       "3       0.483854      0.090662         0.072396        0.030676    5.623413   \n",
       "2       0.426377      0.065902         0.070769        0.030507    0.316228   \n",
       "\n",
       "                           params  split0_test_score  split1_test_score  \\\n",
       "4                {'alpha': 100.0}         -19.565354         -19.212116   \n",
       "3    {'alpha': 5.623413251903491}         -20.260892         -19.843242   \n",
       "2  {'alpha': 0.31622776601683794}         -20.329747         -19.909536   \n",
       "\n",
       "   split2_test_score  split3_test_score  split4_test_score  mean_test_score  \\\n",
       "4         -19.381084         -19.634901         -19.192691       -19.397229   \n",
       "3         -20.040607         -20.262112         -19.737864       -20.028943   \n",
       "2         -20.108016         -20.323408         -19.792759       -20.092693   \n",
       "\n",
       "   std_test_score  rank_test_score  \n",
       "4        0.179509                1  \n",
       "3        0.213315                2  \n",
       "2        0.215947                3  "
      ]
     },
     "execution_count": 22,
     "metadata": {},
     "output_type": "execute_result"
    }
   ],
   "source": [
    "searcher = RandomizedSearchCV(\n",
    "    Ridge(),\n",
    "    param_distributions={\n",
    "        'alpha' : np.logspace(-3, 2, 5),\n",
    "    },\n",
    "    scoring=make_scorer(rmse, greater_is_better=False),\n",
    ")\n",
    "searcher.fit(x, y)\n",
    "pd.DataFrame(searcher.cv_results_).sort_values('mean_test_score', ascending=False).head(3)"
   ]
  },
  {
   "cell_type": "code",
   "execution_count": 23,
   "id": "df060b01-61f8-4e66-bf95-108ae84eaf15",
   "metadata": {},
   "outputs": [
    {
     "name": "stderr",
     "output_type": "stream",
     "text": [
      "/opt/conda/lib/python3.8/site-packages/sklearn/model_selection/_search.py:306: UserWarning: The total space of parameters 4 is smaller than n_iter=10. Running 4 iterations. For exhaustive searches, use GridSearchCV.\n",
      "  warnings.warn(\n"
     ]
    },
    {
     "data": {
      "text/html": [
       "<div>\n",
       "<style scoped>\n",
       "    .dataframe tbody tr th:only-of-type {\n",
       "        vertical-align: middle;\n",
       "    }\n",
       "\n",
       "    .dataframe tbody tr th {\n",
       "        vertical-align: top;\n",
       "    }\n",
       "\n",
       "    .dataframe thead th {\n",
       "        text-align: right;\n",
       "    }\n",
       "</style>\n",
       "<table border=\"1\" class=\"dataframe\">\n",
       "  <thead>\n",
       "    <tr style=\"text-align: right;\">\n",
       "      <th></th>\n",
       "      <th>mean_fit_time</th>\n",
       "      <th>std_fit_time</th>\n",
       "      <th>mean_score_time</th>\n",
       "      <th>std_score_time</th>\n",
       "      <th>param_min_samples_leaf</th>\n",
       "      <th>param_max_depth</th>\n",
       "      <th>params</th>\n",
       "      <th>split0_test_score</th>\n",
       "      <th>split1_test_score</th>\n",
       "      <th>split2_test_score</th>\n",
       "      <th>split3_test_score</th>\n",
       "      <th>split4_test_score</th>\n",
       "      <th>mean_test_score</th>\n",
       "      <th>std_test_score</th>\n",
       "      <th>rank_test_score</th>\n",
       "    </tr>\n",
       "  </thead>\n",
       "  <tbody>\n",
       "    <tr>\n",
       "      <th>0</th>\n",
       "      <td>2.002368</td>\n",
       "      <td>0.010808</td>\n",
       "      <td>0.002658</td>\n",
       "      <td>0.000025</td>\n",
       "      <td>5</td>\n",
       "      <td>3</td>\n",
       "      <td>{'min_samples_leaf': 5, 'max_depth': 3}</td>\n",
       "      <td>-19.742288</td>\n",
       "      <td>-20.263004</td>\n",
       "      <td>-19.985568</td>\n",
       "      <td>-20.196229</td>\n",
       "      <td>-20.015338</td>\n",
       "      <td>-20.040485</td>\n",
       "      <td>0.182395</td>\n",
       "      <td>1</td>\n",
       "    </tr>\n",
       "    <tr>\n",
       "      <th>1</th>\n",
       "      <td>3.083335</td>\n",
       "      <td>0.030108</td>\n",
       "      <td>0.002975</td>\n",
       "      <td>0.000399</td>\n",
       "      <td>5</td>\n",
       "      <td>5</td>\n",
       "      <td>{'min_samples_leaf': 5, 'max_depth': 5}</td>\n",
       "      <td>-20.113000</td>\n",
       "      <td>-20.383295</td>\n",
       "      <td>-20.225062</td>\n",
       "      <td>-20.668222</td>\n",
       "      <td>-20.400390</td>\n",
       "      <td>-20.357994</td>\n",
       "      <td>0.187815</td>\n",
       "      <td>2</td>\n",
       "    </tr>\n",
       "    <tr>\n",
       "      <th>2</th>\n",
       "      <td>4.059315</td>\n",
       "      <td>0.022559</td>\n",
       "      <td>0.003517</td>\n",
       "      <td>0.001326</td>\n",
       "      <td>5</td>\n",
       "      <td>7</td>\n",
       "      <td>{'min_samples_leaf': 5, 'max_depth': 7}</td>\n",
       "      <td>-20.536974</td>\n",
       "      <td>-20.751426</td>\n",
       "      <td>-20.843196</td>\n",
       "      <td>-21.122521</td>\n",
       "      <td>-21.136045</td>\n",
       "      <td>-20.878033</td>\n",
       "      <td>0.227995</td>\n",
       "      <td>3</td>\n",
       "    </tr>\n",
       "  </tbody>\n",
       "</table>\n",
       "</div>"
      ],
      "text/plain": [
       "   mean_fit_time  std_fit_time  mean_score_time  std_score_time  \\\n",
       "0       2.002368      0.010808         0.002658        0.000025   \n",
       "1       3.083335      0.030108         0.002975        0.000399   \n",
       "2       4.059315      0.022559         0.003517        0.001326   \n",
       "\n",
       "  param_min_samples_leaf param_max_depth  \\\n",
       "0                      5               3   \n",
       "1                      5               5   \n",
       "2                      5               7   \n",
       "\n",
       "                                    params  split0_test_score  \\\n",
       "0  {'min_samples_leaf': 5, 'max_depth': 3}         -19.742288   \n",
       "1  {'min_samples_leaf': 5, 'max_depth': 5}         -20.113000   \n",
       "2  {'min_samples_leaf': 5, 'max_depth': 7}         -20.536974   \n",
       "\n",
       "   split1_test_score  split2_test_score  split3_test_score  split4_test_score  \\\n",
       "0         -20.263004         -19.985568         -20.196229         -20.015338   \n",
       "1         -20.383295         -20.225062         -20.668222         -20.400390   \n",
       "2         -20.751426         -20.843196         -21.122521         -21.136045   \n",
       "\n",
       "   mean_test_score  std_test_score  rank_test_score  \n",
       "0       -20.040485        0.182395                1  \n",
       "1       -20.357994        0.187815                2  \n",
       "2       -20.878033        0.227995                3  "
      ]
     },
     "execution_count": 23,
     "metadata": {},
     "output_type": "execute_result"
    }
   ],
   "source": [
    "searcher = RandomizedSearchCV(\n",
    "    DecisionTreeRegressor(),\n",
    "    param_distributions={\n",
    "        'max_depth' : [3, 5, 7, 9],\n",
    "        'min_samples_leaf' : [5],\n",
    "    },\n",
    "    scoring=make_scorer(rmse, greater_is_better=False),\n",
    ")\n",
    "searcher.fit(x, y)\n",
    "pd.DataFrame(searcher.cv_results_).sort_values('mean_test_score', ascending=False).head(3)"
   ]
  },
  {
   "cell_type": "code",
   "execution_count": null,
   "id": "303051e0-76a9-4206-845c-caa64be0ad81",
   "metadata": {},
   "outputs": [],
   "source": []
  }
 ],
 "metadata": {
  "kernelspec": {
   "display_name": "Python 3 (ipykernel)",
   "language": "python",
   "name": "python3"
  },
  "language_info": {
   "codemirror_mode": {
    "name": "ipython",
    "version": 3
   },
   "file_extension": ".py",
   "mimetype": "text/x-python",
   "name": "python",
   "nbconvert_exporter": "python",
   "pygments_lexer": "ipython3",
   "version": "3.8.13"
  }
 },
 "nbformat": 4,
 "nbformat_minor": 5
}
